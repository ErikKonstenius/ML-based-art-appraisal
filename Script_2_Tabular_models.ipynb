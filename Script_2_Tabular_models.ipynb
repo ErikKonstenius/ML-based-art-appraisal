{
 "cells": [
  {
   "cell_type": "markdown",
   "id": "9967a3a0",
   "metadata": {
    "id": "9967a3a0"
   },
   "source": [
    "# Script 2: Modeling on Tabular Data\n",
    "#### Final Project in Data Mining, Machine Learning, and Deep Learning|\n",
    "#### Erik Konstenius, Theodore Balas and Muhammad Azkaenza"
   ]
  },
  {
   "cell_type": "markdown",
   "id": "48434c50",
   "metadata": {},
   "source": [
    "## Dependencies"
   ]
  },
  {
   "cell_type": "code",
   "execution_count": 1,
   "id": "9d57b6d6",
   "metadata": {
    "colab": {
     "base_uri": "https://localhost:8080/"
    },
    "id": "9d57b6d6",
    "outputId": "779938c2-013b-40fc-c9f5-78f84056b98e"
   },
   "outputs": [],
   "source": [
    "# !pip install pydot pydotplus numpy pandas matplotlib seaborn xgboost sklearn tensorflow keras graphviz\n",
    "# !pip install keras-tuner --upgrade"
   ]
  },
  {
   "cell_type": "markdown",
   "id": "597e655f",
   "metadata": {},
   "source": [
    "## Import Packages"
   ]
  },
  {
   "cell_type": "code",
   "execution_count": 60,
   "id": "7262ce37",
   "metadata": {
    "colab": {
     "base_uri": "https://localhost:8080/",
     "height": 393
    },
    "id": "7262ce37",
    "outputId": "fa5d1f12-434f-4882-e60e-3ceaf4482bf3"
   },
   "outputs": [],
   "source": [
    "# Library import\n",
    "\n",
    "import numpy as np\n",
    "import pandas as pd\n",
    "import matplotlib.pyplot as plt\n",
    "import seaborn as sns\n",
    "import xgboost as xgb\n",
    "from xgboost import XGBRegressor, plot_tree\n",
    "import graphviz\n",
    "\n",
    "from sklearn import metrics, tree\n",
    "from sklearn.preprocessing import OneHotEncoder, MinMaxScaler\n",
    "from sklearn.model_selection import train_test_split, GridSearchCV\n",
    "from sklearn.linear_model import LinearRegression\n",
    "from sklearn.metrics import r2_score, mean_squared_error, mean_absolute_error\n",
    "\n",
    "import tensorflow as tf\n",
    "from tensorflow import keras\n",
    "from keras import backend as K, regularizers\n",
    "from keras.layers import Dense, Activation, BatchNormalization\n",
    "from keras.models import Sequential\n",
    "from tensorflow.keras.optimizers import Adam\n",
    "from keras.callbacks import EarlyStopping\n",
    "from keras_tuner.tuners import RandomSearch"
   ]
  },
  {
   "cell_type": "markdown",
   "id": "a4770e77",
   "metadata": {},
   "source": [
    "### Load csv files created in Script 1\n",
    "#### X_train, X_valid, X_test, y_train, y_valid, y_test"
   ]
  },
  {
   "cell_type": "code",
   "execution_count": 61,
   "id": "d25a8ba6",
   "metadata": {
    "id": "d25a8ba6"
   },
   "outputs": [],
   "source": [
    "features = ['width', 'height', 'acrylic', 'guache', 'ink', 'oil', 'pastel',\n",
    "          'watercolour', 'origin_freq_encoding']\n",
    "\n",
    "X_train = pd.read_csv(\"X_train.csv\", usecols = features)\n",
    "X_valid = pd.read_csv(\"X_valid.csv\", usecols = features)\n",
    "X_test = pd.read_csv(\"X_test.csv\", usecols = features)\n",
    "X_vt = X_valid.append(X_test)\n",
    "X = X_train.append(X_vt)\n",
    "\n",
    "y_train = pd.read_csv(\"y_train.csv\").values\n",
    "y_valid = pd.read_csv(\"y_valid.csv\").values\n",
    "y_test = pd.read_csv(\"y_test.csv\").values\n",
    "y_vt = np.append(y_valid, y_test)\n",
    "y = np.append(y_train, y_vt)"
   ]
  },
  {
   "cell_type": "code",
   "execution_count": 62,
   "id": "a3d9242b",
   "metadata": {},
   "outputs": [
    {
     "data": {
      "text/html": [
       "<div>\n",
       "<style scoped>\n",
       "    .dataframe tbody tr th:only-of-type {\n",
       "        vertical-align: middle;\n",
       "    }\n",
       "\n",
       "    .dataframe tbody tr th {\n",
       "        vertical-align: top;\n",
       "    }\n",
       "\n",
       "    .dataframe thead th {\n",
       "        text-align: right;\n",
       "    }\n",
       "</style>\n",
       "<table border=\"1\" class=\"dataframe\">\n",
       "  <thead>\n",
       "    <tr style=\"text-align: right;\">\n",
       "      <th></th>\n",
       "      <th>width</th>\n",
       "      <th>height</th>\n",
       "      <th>acrylic</th>\n",
       "      <th>guache</th>\n",
       "      <th>ink</th>\n",
       "      <th>oil</th>\n",
       "      <th>pastel</th>\n",
       "      <th>watercolour</th>\n",
       "      <th>origin_freq_encoding</th>\n",
       "    </tr>\n",
       "  </thead>\n",
       "  <tbody>\n",
       "    <tr>\n",
       "      <th>0</th>\n",
       "      <td>0.405906</td>\n",
       "      <td>0.558779</td>\n",
       "      <td>0.0</td>\n",
       "      <td>0.0</td>\n",
       "      <td>0.0</td>\n",
       "      <td>1.0</td>\n",
       "      <td>0.0</td>\n",
       "      <td>0.0</td>\n",
       "      <td>0.291229</td>\n",
       "    </tr>\n",
       "    <tr>\n",
       "      <th>1</th>\n",
       "      <td>0.787287</td>\n",
       "      <td>0.609305</td>\n",
       "      <td>0.0</td>\n",
       "      <td>0.0</td>\n",
       "      <td>0.0</td>\n",
       "      <td>1.0</td>\n",
       "      <td>0.0</td>\n",
       "      <td>0.0</td>\n",
       "      <td>0.291229</td>\n",
       "    </tr>\n",
       "    <tr>\n",
       "      <th>2</th>\n",
       "      <td>0.126126</td>\n",
       "      <td>0.101051</td>\n",
       "      <td>0.0</td>\n",
       "      <td>0.0</td>\n",
       "      <td>0.0</td>\n",
       "      <td>1.0</td>\n",
       "      <td>0.0</td>\n",
       "      <td>0.0</td>\n",
       "      <td>0.291229</td>\n",
       "    </tr>\n",
       "    <tr>\n",
       "      <th>3</th>\n",
       "      <td>0.069069</td>\n",
       "      <td>0.094547</td>\n",
       "      <td>0.0</td>\n",
       "      <td>0.0</td>\n",
       "      <td>0.0</td>\n",
       "      <td>0.0</td>\n",
       "      <td>1.0</td>\n",
       "      <td>0.0</td>\n",
       "      <td>0.291229</td>\n",
       "    </tr>\n",
       "    <tr>\n",
       "      <th>4</th>\n",
       "      <td>0.202202</td>\n",
       "      <td>0.253627</td>\n",
       "      <td>0.0</td>\n",
       "      <td>0.0</td>\n",
       "      <td>0.0</td>\n",
       "      <td>1.0</td>\n",
       "      <td>0.0</td>\n",
       "      <td>0.0</td>\n",
       "      <td>0.291229</td>\n",
       "    </tr>\n",
       "  </tbody>\n",
       "</table>\n",
       "</div>"
      ],
      "text/plain": [
       "      width    height  acrylic  guache  ink  oil  pastel  watercolour  \\\n",
       "0  0.405906  0.558779      0.0     0.0  0.0  1.0     0.0          0.0   \n",
       "1  0.787287  0.609305      0.0     0.0  0.0  1.0     0.0          0.0   \n",
       "2  0.126126  0.101051      0.0     0.0  0.0  1.0     0.0          0.0   \n",
       "3  0.069069  0.094547      0.0     0.0  0.0  0.0     1.0          0.0   \n",
       "4  0.202202  0.253627      0.0     0.0  0.0  1.0     0.0          0.0   \n",
       "\n",
       "   origin_freq_encoding  \n",
       "0              0.291229  \n",
       "1              0.291229  \n",
       "2              0.291229  \n",
       "3              0.291229  \n",
       "4              0.291229  "
      ]
     },
     "execution_count": 62,
     "metadata": {},
     "output_type": "execute_result"
    }
   ],
   "source": [
    "X_train.head()"
   ]
  },
  {
   "cell_type": "code",
   "execution_count": 63,
   "id": "3eaed458",
   "metadata": {
    "id": "3eaed458"
   },
   "outputs": [],
   "source": [
    "def r_square(y_true, y_pred):\n",
    "    from keras import backend\n",
    "    SS_res =  backend.sum(backend.square(y_true - y_pred)) \n",
    "    SS_tot = backend.sum(backend.square(y_true - backend.mean(y_true))) \n",
    "    return (1 - SS_res/(SS_tot + backend.epsilon()))\n",
    "\n",
    "def mse(y_true, y_pred):\n",
    "    from keras import backend\n",
    "    return backend.mean(backend.square(y_pred - y_true), axis=-1)\n",
    "\n",
    "def rmse(y_true, y_pred):\n",
    "    from keras import backend\n",
    "    return backend.sqrt(backend.mean(backend.square(y_pred - y_true), axis=-1))\n",
    "\n",
    "def coeff_determination(y_test, y_pred):\n",
    "    SS_res = K.sum(K.square(y_test - y_pred))\n",
    "    SS_tot = K.sum(K.square(y_test - K.mean(y_true)))\n",
    "    return ( 1 - SS_res/(SS_tot + K.epsilon()) )"
   ]
  },
  {
   "cell_type": "markdown",
   "id": "cae99d4b",
   "metadata": {
    "id": "cae99d4b"
   },
   "source": [
    "# Price Prediction based on tabular data"
   ]
  },
  {
   "cell_type": "markdown",
   "id": "add7a448",
   "metadata": {
    "id": "add7a448"
   },
   "source": [
    "## Linear Regression\n",
    "Predict the price based on simple regression. And 'watercolour' is dropped to avoid dummy variable trap."
   ]
  },
  {
   "cell_type": "code",
   "execution_count": 64,
   "id": "e50025bd",
   "metadata": {
    "id": "e50025bd",
    "outputId": "521ce767-59b7-4903-e9b8-5bfb0c12f167",
    "scrolled": true
   },
   "outputs": [
    {
     "data": {
      "text/plain": [
       "LinearRegression()"
      ]
     },
     "execution_count": 64,
     "metadata": {},
     "output_type": "execute_result"
    }
   ],
   "source": [
    "MLR = LinearRegression()  \n",
    "MLR.fit(X_train.loc[:, X_train.columns != 'watercolour'] , y_train)"
   ]
  },
  {
   "cell_type": "code",
   "execution_count": 65,
   "id": "0df5ffbd",
   "metadata": {
    "id": "0df5ffbd",
    "outputId": "e8f51b3e-1383-4678-a190-fa900d77f773",
    "scrolled": true
   },
   "outputs": [],
   "source": [
    "y_pred_MLR = MLR.predict(X_vt.loc[:, X_vt.columns != 'watercolour'])\n",
    "np.save('y_pred_MLR.npy', y_pred_MLR)"
   ]
  },
  {
   "cell_type": "code",
   "execution_count": 66,
   "id": "925b856f",
   "metadata": {},
   "outputs": [
    {
     "name": "stdout",
     "output_type": "stream",
     "text": [
      "R2  :  0.5090208951585466\n",
      "MAE :  0.0777718820169703\n",
      "MSE :  0.014581177215998836\n",
      "RMSE:  0.12075254538103466\n"
     ]
    }
   ],
   "source": [
    "print('R2  : ', r2_score(y_vt, y_pred_MLR))\n",
    "print('MAE : ', mean_absolute_error(y_vt, y_pred_MLR))\n",
    "print('MSE : ', mean_squared_error(y_vt, y_pred_MLR))\n",
    "print('RMSE: ', np.sqrt(mean_squared_error(y_vt, y_pred_MLR)))"
   ]
  },
  {
   "cell_type": "code",
   "execution_count": 67,
   "id": "2bde1d17",
   "metadata": {
    "id": "2bde1d17",
    "outputId": "771fd58f-653b-4bd7-a60f-a813521a26b4",
    "scrolled": true
   },
   "outputs": [
    {
     "data": {
      "text/html": [
       "<div>\n",
       "<style scoped>\n",
       "    .dataframe tbody tr th:only-of-type {\n",
       "        vertical-align: middle;\n",
       "    }\n",
       "\n",
       "    .dataframe tbody tr th {\n",
       "        vertical-align: top;\n",
       "    }\n",
       "\n",
       "    .dataframe thead th {\n",
       "        text-align: right;\n",
       "    }\n",
       "</style>\n",
       "<table border=\"1\" class=\"dataframe\">\n",
       "  <thead>\n",
       "    <tr style=\"text-align: right;\">\n",
       "      <th></th>\n",
       "      <th>Parameter</th>\n",
       "      <th>Coefficient</th>\n",
       "    </tr>\n",
       "  </thead>\n",
       "  <tbody>\n",
       "    <tr>\n",
       "      <th>0</th>\n",
       "      <td>width</td>\n",
       "      <td>0.338562</td>\n",
       "    </tr>\n",
       "    <tr>\n",
       "      <th>1</th>\n",
       "      <td>height</td>\n",
       "      <td>0.317205</td>\n",
       "    </tr>\n",
       "    <tr>\n",
       "      <th>2</th>\n",
       "      <td>acrylic</td>\n",
       "      <td>0.023098</td>\n",
       "    </tr>\n",
       "    <tr>\n",
       "      <th>3</th>\n",
       "      <td>guache</td>\n",
       "      <td>0.009188</td>\n",
       "    </tr>\n",
       "    <tr>\n",
       "      <th>4</th>\n",
       "      <td>ink</td>\n",
       "      <td>0.016695</td>\n",
       "    </tr>\n",
       "    <tr>\n",
       "      <th>5</th>\n",
       "      <td>oil</td>\n",
       "      <td>0.063356</td>\n",
       "    </tr>\n",
       "    <tr>\n",
       "      <th>6</th>\n",
       "      <td>pastel</td>\n",
       "      <td>-0.007658</td>\n",
       "    </tr>\n",
       "    <tr>\n",
       "      <th>7</th>\n",
       "      <td>watercolour</td>\n",
       "      <td>0.063265</td>\n",
       "    </tr>\n",
       "    <tr>\n",
       "      <th>8</th>\n",
       "      <td>origin_freq_encoding</td>\n",
       "      <td>NaN</td>\n",
       "    </tr>\n",
       "    <tr>\n",
       "      <th>9</th>\n",
       "      <td>intercept</td>\n",
       "      <td>-0.073331</td>\n",
       "    </tr>\n",
       "  </tbody>\n",
       "</table>\n",
       "</div>"
      ],
      "text/plain": [
       "              Parameter Coefficient\n",
       "0                 width    0.338562\n",
       "1                height    0.317205\n",
       "2               acrylic    0.023098\n",
       "3                guache    0.009188\n",
       "4                   ink    0.016695\n",
       "5                   oil    0.063356\n",
       "6                pastel   -0.007658\n",
       "7           watercolour    0.063265\n",
       "8  origin_freq_encoding         NaN\n",
       "9             intercept   -0.073331"
      ]
     },
     "execution_count": 67,
     "metadata": {},
     "output_type": "execute_result"
    }
   ],
   "source": [
    "MLR_coef = pd.DataFrame(data=[pd.Series(X_train.columns),pd.Series(MLR.coef_[0])]).T \n",
    "MLR_coef.columns=['Parameter','Coefficient']\n",
    "dict = {'Parameter': 'intercept', 'Coefficient': MLR.intercept_[0]}\n",
    "MLR_coef = MLR_coef.append(dict, ignore_index = True)\n",
    "MLR_coef\n",
    "\n",
    "# please ignore the NaN value at origin_freq_encoding\n",
    "# to avoid falling falling into the dummy variable trap\n",
    "# watercolour should have been removed\n",
    "# NB!!! the error was made ONLY in this demo file"
   ]
  },
  {
   "cell_type": "code",
   "execution_count": 68,
   "id": "219b9875",
   "metadata": {},
   "outputs": [
    {
     "data": {
      "image/png": "[encoded data removed]",
      "text/plain": [
       "<Figure size 720x720 with 1 Axes>"
      ]
     },
     "metadata": {
      "needs_background": "light"
     },
     "output_type": "display_data"
    }
   ],
   "source": [
    "plt.figure(figsize=(10,10))\n",
    "plt.scatter(y_vt, y_pred_MLR, c='crimson')\n",
    "plt.xlim(0,1)\n",
    "plt.ylim(0,1)\n",
    "plt.xlabel('True Values', fontsize=15)\n",
    "plt.ylabel('Predictions', fontsize=15)\n",
    "plt.show()"
   ]
  },
  {
   "cell_type": "markdown",
   "id": "d4b47f57",
   "metadata": {
    "id": "d4b47f57"
   },
   "source": [
    "## Multilayer Perceptron (MLP)"
   ]
  },
  {
   "cell_type": "markdown",
   "id": "CwEus98tKhV3",
   "metadata": {
    "id": "CwEus98tKhV3"
   },
   "source": [
    "### Initial Model of MLP"
   ]
  },
  {
   "cell_type": "code",
   "execution_count": 69,
   "id": "05284fb6",
   "metadata": {
    "id": "05284fb6"
   },
   "outputs": [],
   "source": [
    "# simple Artificial Neural Network\n",
    "\n",
    "# initialisation\n",
    "model = Sequential()\n",
    "\n",
    "# Adding the input layer and the first hidden layer\n",
    "model.add(Dense(16, activation = 'relu', input_shape = (9,)))\n",
    "model.add(BatchNormalization())\n",
    "\n",
    "# Adding the second hidden layer\n",
    "model.add(Dense(units = 16, activation = 'relu'))\n",
    "model.add(BatchNormalization())\n",
    "\n",
    "# Adding the third hidden layer\n",
    "model.add(Dense(units = 16, activation = 'relu'))\n",
    "model.add(BatchNormalization())\n",
    "\n",
    "# Adding the output layer\n",
    "model.add(Dense(units = 1))"
   ]
  },
  {
   "cell_type": "code",
   "execution_count": 70,
   "id": "a5adfc83",
   "metadata": {
    "id": "a5adfc83"
   },
   "outputs": [],
   "source": [
    "# optimizer\n",
    "opt = tf.keras.optimizers.Adam(learning_rate=0.001)\n",
    "model.compile(optimizer = opt, loss = 'mean_squared_error', metrics=[r_square])"
   ]
  },
  {
   "cell_type": "code",
   "execution_count": 71,
   "id": "e332ce23",
   "metadata": {
    "id": "e332ce23",
    "outputId": "a513576c-e1b0-4519-84d4-69da219f6c45"
   },
   "outputs": [
    {
     "name": "stdout",
     "output_type": "stream",
     "text": [
      "Model: \"sequential\"\n",
      "_________________________________________________________________\n",
      " Layer (type)                Output Shape              Param #   \n",
      "=================================================================\n",
      " dense (Dense)               (None, 16)                160       \n",
      "                                                                 \n",
      " batch_normalization (BatchN  (None, 16)               64        \n",
      " ormalization)                                                   \n",
      "                                                                 \n",
      " dense_1 (Dense)             (None, 16)                272       \n",
      "                                                                 \n",
      " batch_normalization_1 (Batc  (None, 16)               64        \n",
      " hNormalization)                                                 \n",
      "                                                                 \n",
      " dense_2 (Dense)             (None, 16)                272       \n",
      "                                                                 \n",
      " batch_normalization_2 (Batc  (None, 16)               64        \n",
      " hNormalization)                                                 \n",
      "                                                                 \n",
      " dense_3 (Dense)             (None, 1)                 17        \n",
      "                                                                 \n",
      "=================================================================\n",
      "Total params: 913\n",
      "Trainable params: 817\n",
      "Non-trainable params: 96\n",
      "_________________________________________________________________\n"
     ]
    }
   ],
   "source": [
    "model.summary()"
   ]
  },
  {
   "cell_type": "code",
   "execution_count": 72,
   "id": "5e46f368",
   "metadata": {
    "id": "5e46f368",
    "outputId": "ba4d6708-cd4a-44f3-aa7c-8a97c31cfc2c",
    "scrolled": true
   },
   "outputs": [
    {
     "name": "stdout",
     "output_type": "stream",
     "text": [
      "Epoch 1/50\n",
      "1500/1500 [==============================] - 2s 804us/step - loss: 0.0410 - r_square: -0.7373 - val_loss: 0.0155 - val_r_square: 0.4142\n",
      "Epoch 2/50\n",
      "1500/1500 [==============================] - 1s 697us/step - loss: 0.0177 - r_square: 0.3275 - val_loss: 0.0151 - val_r_square: 0.4384\n",
      "Epoch 3/50\n",
      "1500/1500 [==============================] - 1s 702us/step - loss: 0.0167 - r_square: 0.3739 - val_loss: 0.0151 - val_r_square: 0.4362\n",
      "Epoch 4/50\n",
      "1500/1500 [==============================] - 1s 727us/step - loss: 0.0162 - r_square: 0.3966 - val_loss: 0.0148 - val_r_square: 0.4347\n",
      "Epoch 5/50\n",
      "1500/1500 [==============================] - 1s 712us/step - loss: 0.0160 - r_square: 0.3956 - val_loss: 0.0147 - val_r_square: 0.4688\n",
      "Epoch 6/50\n",
      "1500/1500 [==============================] - 1s 699us/step - loss: 0.0158 - r_square: 0.4032 - val_loss: 0.0154 - val_r_square: 0.4092\n",
      "Epoch 7/50\n",
      "1500/1500 [==============================] - 1s 716us/step - loss: 0.0157 - r_square: 0.4160 - val_loss: 0.0148 - val_r_square: 0.4158\n",
      "Epoch 8/50\n",
      "1500/1500 [==============================] - 1s 718us/step - loss: 0.0156 - r_square: 0.4177 - val_loss: 0.0141 - val_r_square: 0.4796\n",
      "Epoch 9/50\n",
      "1500/1500 [==============================] - 1s 710us/step - loss: 0.0155 - r_square: 0.4201 - val_loss: 0.0140 - val_r_square: 0.4774\n",
      "Epoch 10/50\n",
      "1500/1500 [==============================] - 1s 716us/step - loss: 0.0155 - r_square: 0.4135 - val_loss: 0.0141 - val_r_square: 0.4762\n",
      "Epoch 11/50\n",
      "1500/1500 [==============================] - 1s 710us/step - loss: 0.0154 - r_square: 0.4225 - val_loss: 0.0140 - val_r_square: 0.4788\n",
      "Epoch 12/50\n",
      "1500/1500 [==============================] - 1s 718us/step - loss: 0.0154 - r_square: 0.4255 - val_loss: 0.0140 - val_r_square: 0.4874\n",
      "Epoch 13/50\n",
      "1500/1500 [==============================] - 1s 711us/step - loss: 0.0153 - r_square: 0.4220 - val_loss: 0.0141 - val_r_square: 0.4832\n",
      "Epoch 14/50\n",
      "1500/1500 [==============================] - 1s 740us/step - loss: 0.0153 - r_square: 0.4216 - val_loss: 0.0142 - val_r_square: 0.4861\n",
      "Epoch 15/50\n",
      "1500/1500 [==============================] - 1s 713us/step - loss: 0.0152 - r_square: 0.4304 - val_loss: 0.0141 - val_r_square: 0.4859\n",
      "Epoch 16/50\n",
      "1500/1500 [==============================] - 1s 718us/step - loss: 0.0152 - r_square: 0.4331 - val_loss: 0.0142 - val_r_square: 0.4702\n",
      "Epoch 17/50\n",
      "1500/1500 [==============================] - 1s 717us/step - loss: 0.0152 - r_square: 0.4341 - val_loss: 0.0141 - val_r_square: 0.4781\n",
      "Epoch 18/50\n",
      "1500/1500 [==============================] - 1s 757us/step - loss: 0.0152 - r_square: 0.4355 - val_loss: 0.0139 - val_r_square: 0.4872\n",
      "Epoch 19/50\n",
      "1500/1500 [==============================] - 1s 708us/step - loss: 0.0152 - r_square: 0.4275 - val_loss: 0.0141 - val_r_square: 0.4627\n",
      "Epoch 20/50\n",
      "1500/1500 [==============================] - 1s 713us/step - loss: 0.0151 - r_square: 0.4361 - val_loss: 0.0144 - val_r_square: 0.4717\n",
      "Epoch 21/50\n",
      "1500/1500 [==============================] - 1s 720us/step - loss: 0.0151 - r_square: 0.4318 - val_loss: 0.0140 - val_r_square: 0.4864\n",
      "Epoch 22/50\n",
      "1500/1500 [==============================] - 1s 714us/step - loss: 0.0151 - r_square: 0.4388 - val_loss: 0.0141 - val_r_square: 0.4815\n",
      "Epoch 23/50\n",
      "1500/1500 [==============================] - 1s 704us/step - loss: 0.0151 - r_square: 0.4382 - val_loss: 0.0140 - val_r_square: 0.4709\n",
      "Epoch 24/50\n",
      "1500/1500 [==============================] - 1s 700us/step - loss: 0.0151 - r_square: 0.4343 - val_loss: 0.0143 - val_r_square: 0.4453\n",
      "Epoch 25/50\n",
      "1500/1500 [==============================] - 1s 715us/step - loss: 0.0150 - r_square: 0.4394 - val_loss: 0.0139 - val_r_square: 0.4900\n",
      "Epoch 26/50\n",
      "1500/1500 [==============================] - 1s 726us/step - loss: 0.0151 - r_square: 0.4309 - val_loss: 0.0140 - val_r_square: 0.4801\n",
      "Epoch 27/50\n",
      "1500/1500 [==============================] - 1s 714us/step - loss: 0.0150 - r_square: 0.4432 - val_loss: 0.0141 - val_r_square: 0.4643\n",
      "Epoch 28/50\n",
      "1500/1500 [==============================] - 1s 698us/step - loss: 0.0150 - r_square: 0.4446 - val_loss: 0.0139 - val_r_square: 0.4793\n",
      "Epoch 29/50\n",
      "1500/1500 [==============================] - 1s 709us/step - loss: 0.0150 - r_square: 0.4253 - val_loss: 0.0140 - val_r_square: 0.4797\n",
      "Epoch 30/50\n",
      "1500/1500 [==============================] - 1s 700us/step - loss: 0.0150 - r_square: 0.4405 - val_loss: 0.0140 - val_r_square: 0.4898\n",
      "Epoch 31/50\n",
      "1500/1500 [==============================] - 1s 712us/step - loss: 0.0150 - r_square: 0.4412 - val_loss: 0.0139 - val_r_square: 0.4887\n",
      "Epoch 32/50\n",
      "1500/1500 [==============================] - 1s 711us/step - loss: 0.0150 - r_square: 0.4395 - val_loss: 0.0140 - val_r_square: 0.4903\n",
      "Epoch 33/50\n",
      "1500/1500 [==============================] - 1s 704us/step - loss: 0.0150 - r_square: 0.4397 - val_loss: 0.0140 - val_r_square: 0.4869\n",
      "Epoch 34/50\n",
      "1500/1500 [==============================] - 1s 713us/step - loss: 0.0150 - r_square: 0.4403 - val_loss: 0.0140 - val_r_square: 0.4838\n",
      "Epoch 35/50\n",
      "1500/1500 [==============================] - 1s 707us/step - loss: 0.0150 - r_square: 0.4408 - val_loss: 0.0140 - val_r_square: 0.4874\n",
      "Epoch 36/50\n",
      "1500/1500 [==============================] - 1s 714us/step - loss: 0.0149 - r_square: 0.4413 - val_loss: 0.0140 - val_r_square: 0.4722\n",
      "Epoch 37/50\n",
      "1500/1500 [==============================] - 1s 714us/step - loss: 0.0149 - r_square: 0.4444 - val_loss: 0.0139 - val_r_square: 0.4951\n",
      "Epoch 38/50\n",
      "1500/1500 [==============================] - 1s 704us/step - loss: 0.0149 - r_square: 0.4393 - val_loss: 0.0140 - val_r_square: 0.4876\n",
      "Epoch 39/50\n",
      "1500/1500 [==============================] - 1s 713us/step - loss: 0.0149 - r_square: 0.4505 - val_loss: 0.0139 - val_r_square: 0.4836\n",
      "Epoch 40/50\n",
      "1500/1500 [==============================] - 1s 711us/step - loss: 0.0149 - r_square: 0.4434 - val_loss: 0.0138 - val_r_square: 0.4910\n",
      "Epoch 41/50\n",
      "1500/1500 [==============================] - 1s 712us/step - loss: 0.0149 - r_square: 0.4503 - val_loss: 0.0139 - val_r_square: 0.4785\n",
      "Epoch 42/50\n",
      "1500/1500 [==============================] - 1s 714us/step - loss: 0.0150 - r_square: 0.4417 - val_loss: 0.0140 - val_r_square: 0.4784\n",
      "Epoch 43/50\n",
      "1500/1500 [==============================] - 1s 705us/step - loss: 0.0149 - r_square: 0.4486 - val_loss: 0.0142 - val_r_square: 0.4625\n",
      "Epoch 44/50\n",
      "1500/1500 [==============================] - 1s 696us/step - loss: 0.0150 - r_square: 0.4386 - val_loss: 0.0139 - val_r_square: 0.4835\n",
      "Epoch 45/50\n",
      "1500/1500 [==============================] - 1s 717us/step - loss: 0.0149 - r_square: 0.4490 - val_loss: 0.0139 - val_r_square: 0.4813\n",
      "Epoch 46/50\n",
      "1500/1500 [==============================] - 1s 696us/step - loss: 0.0148 - r_square: 0.4497 - val_loss: 0.0139 - val_r_square: 0.4795\n",
      "Epoch 47/50\n",
      "1500/1500 [==============================] - 1s 725us/step - loss: 0.0150 - r_square: 0.4419 - val_loss: 0.0140 - val_r_square: 0.4702\n",
      "Epoch 48/50\n",
      "1500/1500 [==============================] - 1s 725us/step - loss: 0.0149 - r_square: 0.4360 - val_loss: 0.0140 - val_r_square: 0.4834\n",
      "Epoch 49/50\n",
      "1500/1500 [==============================] - 1s 716us/step - loss: 0.0149 - r_square: 0.4447 - val_loss: 0.0140 - val_r_square: 0.4666\n",
      "Epoch 50/50\n",
      "1500/1500 [==============================] - 1s 719us/step - loss: 0.0148 - r_square: 0.4518 - val_loss: 0.0139 - val_r_square: 0.4872\n"
     ]
    }
   ],
   "source": [
    "history = model.fit(X_train.to_numpy(), y_train, validation_data = (X_valid.to_numpy(), y_valid), batch_size=32, epochs = 50)"
   ]
  },
  {
   "cell_type": "code",
   "execution_count": 73,
   "id": "fc616898",
   "metadata": {},
   "outputs": [
    {
     "name": "stdout",
     "output_type": "stream",
     "text": [
      "188/188 [==============================] - 0s 423us/step\n"
     ]
    }
   ],
   "source": [
    "y_pred_MLP1 = model.predict(X_test)\n",
    "np.save('y_pred_MLP1.npy', y_pred_MLP1)"
   ]
  },
  {
   "cell_type": "code",
   "execution_count": 74,
   "id": "7bdc8b48",
   "metadata": {
    "scrolled": true
   },
   "outputs": [
    {
     "name": "stdout",
     "output_type": "stream",
     "text": [
      "R2  :  0.5260789521072013\n",
      "MAE :  0.07531761122422403\n",
      "MSE :  0.014330018273709813\n",
      "RMSE:  0.11970805433933764\n"
     ]
    }
   ],
   "source": [
    "print('R2  : ', r2_score(y_test, y_pred_MLP1))\n",
    "print('MAE : ', mean_absolute_error(y_test, y_pred_MLP1))\n",
    "print('MSE : ', mean_squared_error(y_test, y_pred_MLP1))\n",
    "print('RMSE: ', np.sqrt(mean_squared_error(y_test, y_pred_MLP1)))"
   ]
  },
  {
   "cell_type": "code",
   "execution_count": 77,
   "id": "d202828c",
   "metadata": {},
   "outputs": [
    {
     "data": {
      "image/png": "[encoded data removed]",
      "text/plain": [
       "<Figure size 720x720 with 1 Axes>"
      ]
     },
     "metadata": {
      "needs_background": "light"
     },
     "output_type": "display_data"
    }
   ],
   "source": [
    "plt.figure(figsize=(10,10))\n",
    "plt.scatter(y_test, y_pred_MLP1, c='crimson')\n",
    "plt.xlim(0,1)\n",
    "plt.ylim(0,1)\n",
    "plt.xlabel('True Values', fontsize=15)\n",
    "plt.ylabel('Predictions', fontsize=15)\n",
    "plt.show()"
   ]
  },
  {
   "cell_type": "code",
   "execution_count": 78,
   "id": "e0aff2d3",
   "metadata": {
    "id": "e0aff2d3",
    "outputId": "2751fcd5-c520-4eb1-86d3-37aeb2aea047"
   },
   "outputs": [
    {
     "data": {
      "image/png": "[encoded data removed]",
      "text/plain": [
       "<Figure size 432x288 with 1 Axes>"
      ]
     },
     "metadata": {
      "needs_background": "light"
     },
     "output_type": "display_data"
    }
   ],
   "source": [
    "plt.plot(history.history['loss'], label='MSE (training)')\n",
    "plt.plot(history.history['val_loss'], label='MSE (validation)')\n",
    "plt.title('MSE for art price predictions')\n",
    "plt.ylabel('MSE value')\n",
    "plt.xlabel('No. epoch')\n",
    "plt.legend(loc=\"upper right\")\n",
    "plt.show()"
   ]
  },
  {
   "cell_type": "code",
   "execution_count": 79,
   "id": "c37e263c",
   "metadata": {
    "id": "c37e263c",
    "outputId": "9b222317-10c2-423a-d7be-eecc43f06c66",
    "scrolled": true
   },
   "outputs": [
    {
     "data": {
      "image/png": "[encoded data removed]",
      "text/plain": [
       "<Figure size 432x288 with 1 Axes>"
      ]
     },
     "metadata": {
      "needs_background": "light"
     },
     "output_type": "display_data"
    }
   ],
   "source": [
    "plt.plot(history.history['r_square'], label='r_square (training data)')\n",
    "plt.plot(history.history['val_r_square'], label='val_r_square (validation data)')\n",
    "plt.title('Model r_square')\n",
    "plt.ylim(0,)\n",
    "plt.ylabel('r_square')\n",
    "plt.xlabel('No. epoch')\n",
    "plt.legend(loc=\"lower right\")\n",
    "plt.show()"
   ]
  },
  {
   "cell_type": "markdown",
   "id": "7fa20e26",
   "metadata": {
    "id": "7fa20e26"
   },
   "source": [
    "### Optimizer - Hyperparameter Tune with RandomSearch"
   ]
  },
  {
   "cell_type": "code",
   "execution_count": 31,
   "id": "f3896ee2",
   "metadata": {
    "id": "f3896ee2"
   },
   "outputs": [],
   "source": [
    "def build_model(hp):\n",
    "    model = Sequential()\n",
    "    for i in range(hp.Int('layers', 2, 8)):\n",
    "        model.add(Dense(units=hp.Int('units_' + str(i),\n",
    "                                     min_value=32,\n",
    "                                     max_value=512,\n",
    "                                     step=64),\n",
    "                        activation='relu'))\n",
    "    model.add(Dense(1))\n",
    "    model.compile(optimizer = Adam(hp.Choice('learning_rate', [1e-2, 1e-3, 1e-4])),\n",
    "                  loss = 'mse',\n",
    "                  metrics = ['mse', r_square])\n",
    "    return model"
   ]
  },
  {
   "cell_type": "code",
   "execution_count": 32,
   "id": "85e75260",
   "metadata": {
    "id": "85e75260",
    "outputId": "bbf1024d-fae3-4e10-cc00-c03bd4b72fd3",
    "scrolled": true
   },
   "outputs": [
    {
     "name": "stdout",
     "output_type": "stream",
     "text": [
      "Trial 10 Complete [00h 01m 41s]\n",
      "val_mse: 0.013793057451645533\n",
      "\n",
      "Best val_mse So Far: 0.013767334011693796\n",
      "Total elapsed time: 00h 27m 43s\n",
      "INFO:tensorflow:Oracle triggered exit\n"
     ]
    }
   ],
   "source": [
    "# random search to find \"\"\n",
    "tuner = RandomSearch(\n",
    "    build_model,\n",
    "    objective = 'val_mse',\n",
    "    max_trials = 10,\n",
    "    executions_per_trial = 3,\n",
    "    project_name = 'Art_Price_Prediction')\n",
    " \n",
    "tuner.search(X_train.to_numpy(), y_train, batch_size=64, epochs=20, validation_data=(X_valid, y_valid))"
   ]
  },
  {
   "cell_type": "markdown",
   "id": "886b8264",
   "metadata": {},
   "source": [
    "### Optimized Model for MLP"
   ]
  },
  {
   "cell_type": "code",
   "execution_count": 80,
   "id": "a04f76f0",
   "metadata": {},
   "outputs": [
    {
     "name": "stdout",
     "output_type": "stream",
     "text": [
      "Epoch 1/50\n",
      "1500/1500 [==============================] - 4s 3ms/step - loss: 0.0156 - r_square: 0.4343 - mse: 0.0156 - val_loss: 0.0142 - val_r_square: 0.4823 - val_mse: 0.0142\n",
      "Epoch 2/50\n",
      "1500/1500 [==============================] - 4s 3ms/step - loss: 0.0150 - r_square: 0.4544 - mse: 0.0150 - val_loss: 0.0144 - val_r_square: 0.4433 - val_mse: 0.0144\n",
      "Epoch 3/50\n",
      "1500/1500 [==============================] - 4s 3ms/step - loss: 0.0147 - r_square: 0.4632 - mse: 0.0147 - val_loss: 0.0144 - val_r_square: 0.4824 - val_mse: 0.0144\n",
      "Epoch 4/50\n",
      "1500/1500 [==============================] - 4s 3ms/step - loss: 0.0146 - r_square: 0.4645 - mse: 0.0146 - val_loss: 0.0144 - val_r_square: 0.4505 - val_mse: 0.0144\n",
      "Epoch 5/50\n",
      "1500/1500 [==============================] - 4s 2ms/step - loss: 0.0146 - r_square: 0.4652 - mse: 0.0146 - val_loss: 0.0140 - val_r_square: 0.4892 - val_mse: 0.0140\n",
      "Epoch 6/50\n",
      "1500/1500 [==============================] - 4s 2ms/step - loss: 0.0145 - r_square: 0.4704 - mse: 0.0145 - val_loss: 0.0141 - val_r_square: 0.4690 - val_mse: 0.0141\n",
      "Epoch 7/50\n",
      "1500/1500 [==============================] - 4s 2ms/step - loss: 0.0146 - r_square: 0.4699 - mse: 0.0146 - val_loss: 0.0141 - val_r_square: 0.4959 - val_mse: 0.0141\n",
      "Epoch 8/50\n",
      "1500/1500 [==============================] - 4s 3ms/step - loss: 0.0145 - r_square: 0.4691 - mse: 0.0145 - val_loss: 0.0140 - val_r_square: 0.4907 - val_mse: 0.0140\n",
      "Epoch 9/50\n",
      "1500/1500 [==============================] - 4s 2ms/step - loss: 0.0145 - r_square: 0.4696 - mse: 0.0145 - val_loss: 0.0139 - val_r_square: 0.4908 - val_mse: 0.0139\n",
      "Epoch 10/50\n",
      "1500/1500 [==============================] - 4s 2ms/step - loss: 0.0144 - r_square: 0.4733 - mse: 0.0144 - val_loss: 0.0140 - val_r_square: 0.4695 - val_mse: 0.0140\n",
      "Epoch 11/50\n",
      "1500/1500 [==============================] - 4s 2ms/step - loss: 0.0144 - r_square: 0.4765 - mse: 0.0144 - val_loss: 0.0145 - val_r_square: 0.4347 - val_mse: 0.0145\n",
      "Epoch 12/50\n",
      "1500/1500 [==============================] - 4s 2ms/step - loss: 0.0144 - r_square: 0.4745 - mse: 0.0144 - val_loss: 0.0138 - val_r_square: 0.4957 - val_mse: 0.0138\n",
      "Epoch 13/50\n",
      "1500/1500 [==============================] - 4s 3ms/step - loss: 0.0144 - r_square: 0.4759 - mse: 0.0144 - val_loss: 0.0143 - val_r_square: 0.4694 - val_mse: 0.0143\n",
      "Epoch 14/50\n",
      "1500/1500 [==============================] - 4s 3ms/step - loss: 0.0144 - r_square: 0.4777 - mse: 0.0144 - val_loss: 0.0139 - val_r_square: 0.4875 - val_mse: 0.0139\n",
      "Epoch 15/50\n",
      "1500/1500 [==============================] - 4s 3ms/step - loss: 0.0144 - r_square: 0.4770 - mse: 0.0144 - val_loss: 0.0140 - val_r_square: 0.4929 - val_mse: 0.0140\n",
      "Epoch 16/50\n",
      "1500/1500 [==============================] - 4s 3ms/step - loss: 0.0144 - r_square: 0.4813 - mse: 0.0144 - val_loss: 0.0139 - val_r_square: 0.4935 - val_mse: 0.0139\n",
      "Epoch 17/50\n",
      "1500/1500 [==============================] - 4s 3ms/step - loss: 0.0144 - r_square: 0.4764 - mse: 0.0144 - val_loss: 0.0142 - val_r_square: 0.4954 - val_mse: 0.0142\n",
      "Epoch 18/50\n",
      "1500/1500 [==============================] - 4s 3ms/step - loss: 0.0144 - r_square: 0.4791 - mse: 0.0144 - val_loss: 0.0145 - val_r_square: 0.4603 - val_mse: 0.0145\n",
      "Epoch 19/50\n",
      "1500/1500 [==============================] - 4s 3ms/step - loss: 0.0143 - r_square: 0.4772 - mse: 0.0143 - val_loss: 0.0140 - val_r_square: 0.4958 - val_mse: 0.0140\n",
      "Epoch 20/50\n",
      "1500/1500 [==============================] - 4s 3ms/step - loss: 0.0143 - r_square: 0.4751 - mse: 0.0143 - val_loss: 0.0142 - val_r_square: 0.4748 - val_mse: 0.0142\n",
      "Epoch 21/50\n",
      "1500/1500 [==============================] - 4s 3ms/step - loss: 0.0143 - r_square: 0.4734 - mse: 0.0143 - val_loss: 0.0138 - val_r_square: 0.4905 - val_mse: 0.0138\n",
      "Epoch 22/50\n",
      "1500/1500 [==============================] - 4s 3ms/step - loss: 0.0143 - r_square: 0.4753 - mse: 0.0143 - val_loss: 0.0139 - val_r_square: 0.4758 - val_mse: 0.0139\n",
      "Epoch 23/50\n",
      "1500/1500 [==============================] - 4s 3ms/step - loss: 0.0143 - r_square: 0.4741 - mse: 0.0143 - val_loss: 0.0138 - val_r_square: 0.4945 - val_mse: 0.0138\n",
      "Epoch 24/50\n",
      "1500/1500 [==============================] - 4s 3ms/step - loss: 0.0143 - r_square: 0.4765 - mse: 0.0143 - val_loss: 0.0138 - val_r_square: 0.4885 - val_mse: 0.0138\n",
      "Epoch 25/50\n",
      "1500/1500 [==============================] - 4s 3ms/step - loss: 0.0143 - r_square: 0.4813 - mse: 0.0143 - val_loss: 0.0140 - val_r_square: 0.4633 - val_mse: 0.0140\n",
      "Epoch 26/50\n",
      "1500/1500 [==============================] - 4s 3ms/step - loss: 0.0143 - r_square: 0.4836 - mse: 0.0143 - val_loss: 0.0138 - val_r_square: 0.5006 - val_mse: 0.0138\n",
      "Epoch 27/50\n",
      "1500/1500 [==============================] - 4s 3ms/step - loss: 0.0143 - r_square: 0.4792 - mse: 0.0143 - val_loss: 0.0138 - val_r_square: 0.4874 - val_mse: 0.0138\n",
      "Epoch 28/50\n",
      "1500/1500 [==============================] - 4s 3ms/step - loss: 0.0143 - r_square: 0.4749 - mse: 0.0143 - val_loss: 0.0139 - val_r_square: 0.4841 - val_mse: 0.0139\n",
      "Epoch 29/50\n",
      "1500/1500 [==============================] - 4s 3ms/step - loss: 0.0143 - r_square: 0.4771 - mse: 0.0143 - val_loss: 0.0140 - val_r_square: 0.4713 - val_mse: 0.0140\n",
      "Epoch 30/50\n",
      "1500/1500 [==============================] - 4s 3ms/step - loss: 0.0143 - r_square: 0.4799 - mse: 0.0143 - val_loss: 0.0138 - val_r_square: 0.4928 - val_mse: 0.0138\n",
      "Epoch 31/50\n",
      "1500/1500 [==============================] - 4s 3ms/step - loss: 0.0143 - r_square: 0.4765 - mse: 0.0143 - val_loss: 0.0139 - val_r_square: 0.4961 - val_mse: 0.0139\n",
      "Epoch 32/50\n",
      "1500/1500 [==============================] - 4s 3ms/step - loss: 0.0143 - r_square: 0.4836 - mse: 0.0143 - val_loss: 0.0142 - val_r_square: 0.4604 - val_mse: 0.0142\n",
      "Epoch 33/50\n",
      "1500/1500 [==============================] - 4s 3ms/step - loss: 0.0142 - r_square: 0.4836 - mse: 0.0142 - val_loss: 0.0139 - val_r_square: 0.4971 - val_mse: 0.0139\n",
      "Epoch 34/50\n",
      "1500/1500 [==============================] - 4s 3ms/step - loss: 0.0142 - r_square: 0.4815 - mse: 0.0142 - val_loss: 0.0138 - val_r_square: 0.4949 - val_mse: 0.0138\n",
      "Epoch 35/50\n",
      "1500/1500 [==============================] - 4s 3ms/step - loss: 0.0142 - r_square: 0.4771 - mse: 0.0142 - val_loss: 0.0139 - val_r_square: 0.4940 - val_mse: 0.0139\n",
      "Epoch 36/50\n",
      "1500/1500 [==============================] - 4s 3ms/step - loss: 0.0142 - r_square: 0.4836 - mse: 0.0142 - val_loss: 0.0137 - val_r_square: 0.4889 - val_mse: 0.0137\n",
      "Epoch 37/50\n",
      "1500/1500 [==============================] - 4s 3ms/step - loss: 0.0142 - r_square: 0.4762 - mse: 0.0142 - val_loss: 0.0138 - val_r_square: 0.4985 - val_mse: 0.0138\n",
      "Epoch 38/50\n",
      "1500/1500 [==============================] - 4s 2ms/step - loss: 0.0142 - r_square: 0.4818 - mse: 0.0142 - val_loss: 0.0139 - val_r_square: 0.5007 - val_mse: 0.0139\n",
      "Epoch 39/50\n",
      "1500/1500 [==============================] - 4s 3ms/step - loss: 0.0142 - r_square: 0.4806 - mse: 0.0142 - val_loss: 0.0138 - val_r_square: 0.4917 - val_mse: 0.0138\n",
      "Epoch 40/50\n",
      "1500/1500 [==============================] - 4s 3ms/step - loss: 0.0142 - r_square: 0.4769 - mse: 0.0142 - val_loss: 0.0139 - val_r_square: 0.5007 - val_mse: 0.0139\n",
      "Epoch 41/50\n",
      "1500/1500 [==============================] - 4s 2ms/step - loss: 0.0142 - r_square: 0.4879 - mse: 0.0142 - val_loss: 0.0139 - val_r_square: 0.4811 - val_mse: 0.0139\n",
      "Epoch 42/50\n",
      "1500/1500 [==============================] - 4s 3ms/step - loss: 0.0142 - r_square: 0.4782 - mse: 0.0142 - val_loss: 0.0141 - val_r_square: 0.4593 - val_mse: 0.0141\n",
      "Epoch 43/50\n",
      "1500/1500 [==============================] - 4s 3ms/step - loss: 0.0142 - r_square: 0.4798 - mse: 0.0142 - val_loss: 0.0141 - val_r_square: 0.4725 - val_mse: 0.0141\n",
      "Epoch 44/50\n",
      "1500/1500 [==============================] - 4s 3ms/step - loss: 0.0142 - r_square: 0.4840 - mse: 0.0142 - val_loss: 0.0139 - val_r_square: 0.4831 - val_mse: 0.0139\n",
      "Epoch 45/50\n",
      "1500/1500 [==============================] - 4s 3ms/step - loss: 0.0142 - r_square: 0.4818 - mse: 0.0142 - val_loss: 0.0139 - val_r_square: 0.4953 - val_mse: 0.0139\n",
      "Epoch 46/50\n",
      "1500/1500 [==============================] - 4s 3ms/step - loss: 0.0142 - r_square: 0.4785 - mse: 0.0142 - val_loss: 0.0138 - val_r_square: 0.4804 - val_mse: 0.0138\n",
      "Epoch 47/50\n",
      "1500/1500 [==============================] - 4s 3ms/step - loss: 0.0142 - r_square: 0.4755 - mse: 0.0142 - val_loss: 0.0140 - val_r_square: 0.4952 - val_mse: 0.0140\n",
      "Epoch 48/50\n",
      "1500/1500 [==============================] - 4s 3ms/step - loss: 0.0142 - r_square: 0.4838 - mse: 0.0142 - val_loss: 0.0139 - val_r_square: 0.4893 - val_mse: 0.0139\n",
      "Epoch 49/50\n",
      "1500/1500 [==============================] - 4s 3ms/step - loss: 0.0142 - r_square: 0.4827 - mse: 0.0142 - val_loss: 0.0140 - val_r_square: 0.4992 - val_mse: 0.0140\n",
      "Epoch 50/50\n",
      "1500/1500 [==============================] - 4s 3ms/step - loss: 0.0142 - r_square: 0.4852 - mse: 0.0142 - val_loss: 0.0137 - val_r_square: 0.4938 - val_mse: 0.0137\n"
     ]
    }
   ],
   "source": [
    "# Initialising the ANN\n",
    "model2 = Sequential()\n",
    "\n",
    "model2.add(Dense(64, activation = 'relu', input_shape = (9,)))\n",
    "model2.add(Dense(units = 128, activation = 'relu'))\n",
    "model2.add(Dense(units = 352, activation = 'relu'))\n",
    "model2.add(Dense(units = 256, activation = 'relu'))\n",
    "model2.add(Dense(units = 480, activation = 'relu'))\n",
    "model2.add(Dense(units = 352, activation = 'relu'))\n",
    "model2.add(Dense(units = 416, activation = 'relu'))\n",
    "model2.add(Dense(units = 256, activation = 'relu'))\n",
    "model2.add(Dense(units = 480, activation = 'relu'))\n",
    "model2.add(Dense(units = 1))\n",
    "\n",
    "model2.compile(optimizer = 'adam', loss = 'mean_squared_error', metrics=[r_square, 'mse'])\n",
    "history2 = model2.fit(X_train.to_numpy(), y_train, validation_data = (X_valid.to_numpy(), y_valid), batch_size = 32, epochs = 50)"
   ]
  },
  {
   "cell_type": "code",
   "execution_count": 81,
   "id": "bc7d5329",
   "metadata": {},
   "outputs": [
    {
     "name": "stdout",
     "output_type": "stream",
     "text": [
      "188/188 [==============================] - 0s 1ms/step\n"
     ]
    }
   ],
   "source": [
    "y_pred_MLP2 = model2.predict(X_test)\n",
    "np.save('y_pred_MLP2.npy', y_pred_MLP2)"
   ]
  },
  {
   "cell_type": "code",
   "execution_count": 82,
   "id": "40d07468",
   "metadata": {},
   "outputs": [
    {
     "name": "stdout",
     "output_type": "stream",
     "text": [
      "R2  :  0.5291069045265309\n",
      "MAE :  0.07469659779331034\n",
      "MSE :  0.0142384616448286\n",
      "RMSE:  0.11932502522450435\n"
     ]
    }
   ],
   "source": [
    "print('R2  : ', r2_score(y_test, y_pred_MLP2))\n",
    "print('MAE : ', mean_absolute_error(y_test, y_pred_MLP2))\n",
    "print('MSE : ', mean_squared_error(y_test, y_pred_MLP2))\n",
    "print('RMSE: ', np.sqrt(mean_squared_error(y_test, y_pred_MLP2)))"
   ]
  },
  {
   "cell_type": "code",
   "execution_count": 83,
   "id": "9bb1c530",
   "metadata": {},
   "outputs": [
    {
     "data": {
      "image/png": "[encoded data removed]",
      "text/plain": [
       "<Figure size 720x720 with 1 Axes>"
      ]
     },
     "metadata": {
      "needs_background": "light"
     },
     "output_type": "display_data"
    }
   ],
   "source": [
    "plt.figure(figsize=(10,10))\n",
    "plt.scatter(y_test, y_pred_MLP2, c='crimson')\n",
    "plt.xlim(0,1)\n",
    "plt.ylim(0,1)\n",
    "plt.xlabel('True Values', fontsize=15)\n",
    "plt.ylabel('Predictions', fontsize=15)\n",
    "plt.show()"
   ]
  },
  {
   "cell_type": "code",
   "execution_count": 47,
   "id": "191b8ad0",
   "metadata": {},
   "outputs": [
    {
     "data": {
      "image/png": "[encoded data removed]",
      "text/plain": [
       "<Figure size 432x288 with 1 Axes>"
      ]
     },
     "metadata": {
      "needs_background": "light"
     },
     "output_type": "display_data"
    }
   ],
   "source": [
    "plt.plot(history2.history['loss'], label='MSE (training)')\n",
    "plt.plot(history2.history['val_loss'], label='MSE (validation)')\n",
    "plt.ylim(0.01,0.02)\n",
    "plt.title('MSE for art price predictions')\n",
    "plt.ylabel('MSE value')\n",
    "plt.xlabel('No. epoch')\n",
    "plt.legend(loc=\"upper left\")\n",
    "plt.show()"
   ]
  },
  {
   "cell_type": "code",
   "execution_count": 48,
   "id": "00ec6c17",
   "metadata": {},
   "outputs": [
    {
     "data": {
      "image/png": "[encoded data removed]",
      "text/plain": [
       "<Figure size 432x288 with 1 Axes>"
      ]
     },
     "metadata": {
      "needs_background": "light"
     },
     "output_type": "display_data"
    }
   ],
   "source": [
    "plt.plot(history2.history['r_square'], label='r_square (training)')\n",
    "plt.plot(history2.history['val_r_square'], label='val_r_square (validation)')\n",
    "plt.ylim(0.28,0.58)\n",
    "plt.title('Model r_square')\n",
    "plt.ylabel('r_square')\n",
    "plt.xlabel('No. epoch')\n",
    "plt.legend(loc=\"upper left\")\n",
    "plt.show()"
   ]
  },
  {
   "cell_type": "markdown",
   "id": "5f1538a4",
   "metadata": {
    "id": "5f1538a4"
   },
   "source": [
    "# XGBoost"
   ]
  },
  {
   "cell_type": "markdown",
   "id": "ff0780c5",
   "metadata": {},
   "source": [
    "We will create three XGBoost regressor and compare their results. First, we train a model with the default parameters. Second, we train a model using grid search. Third, we train a model using a custom built methodical hyperparameter tuning. The model that performs the best will be the model we will compare to other models in the paper. "
   ]
  },
  {
   "cell_type": "code",
   "execution_count": 5,
   "id": "BpT8bdNjZ3UD",
   "metadata": {
    "id": "BpT8bdNjZ3UD"
   },
   "outputs": [],
   "source": [
    "data_dmatrix_train = xgb.DMatrix(X_train, label = y_train)\n",
    "data_dmatrix_valid = xgb.DMatrix(X_valid, label = y_valid)\n",
    "data_dmatrix_test = xgb.DMatrix(X_test, label = y_test)"
   ]
  },
  {
   "cell_type": "markdown",
   "id": "ba08c1a6",
   "metadata": {},
   "source": [
    "### XGB 1: No tuning"
   ]
  },
  {
   "cell_type": "code",
   "execution_count": 8,
   "id": "AeJzUbbBZ3Rf",
   "metadata": {
    "id": "AeJzUbbBZ3Rf"
   },
   "outputs": [],
   "source": [
    "# default XGB\n",
    "\n",
    "# those are the default parameters when XGBRegressor() is run\n",
    "# the only difference being the different objective\n",
    "params_init = {\n",
    "    'max_depth':6,\n",
    "    'min_child_weight': 1,\n",
    "    'eta':.3,\n",
    "    'subsample': 1,\n",
    "    'colsample_bytree': 1,\n",
    "    'objective':'reg:squarederror'}\n",
    "\n",
    "xg_model_1 = xgb.train(params_init, data_dmatrix_train)\n",
    "y_pred_xg_model_1 = xg_model_1.predict(data_dmatrix_test)"
   ]
  },
  {
   "cell_type": "code",
   "execution_count": 9,
   "id": "3000d7a3",
   "metadata": {
    "scrolled": true
   },
   "outputs": [
    {
     "name": "stdout",
     "output_type": "stream",
     "text": [
      "Default XGBoost\n",
      "R2  :  0.5419339156047166\n",
      "MAE :  0.07680680014307899\n",
      "MSE :  0.013850609482607145\n",
      "RMSE:  0.11768861237438032\n"
     ]
    }
   ],
   "source": [
    "print('Default XGBoost')\n",
    "print('R2  : ', r2_score(y_test, y_pred_xg_model_1))\n",
    "print('MAE : ', mean_absolute_error(y_test, y_pred_xg_model_1))\n",
    "print('MSE : ', mean_squared_error(y_test, y_pred_xg_model_1))\n",
    "print('RMSE: ', np.sqrt(mean_squared_error(y_test, y_pred_xg_model_1)))"
   ]
  },
  {
   "cell_type": "code",
   "execution_count": 15,
   "id": "90630141",
   "metadata": {
    "scrolled": true
   },
   "outputs": [
    {
     "data": {
      "text/plain": [
       "<AxesSubplot:title={'center':'Feature importance'}, xlabel='F score', ylabel='Features'>"
      ]
     },
     "execution_count": 15,
     "metadata": {},
     "output_type": "execute_result"
    },
    {
     "data": {
      "image/png": "[encoded data removed]",
      "text/plain": [
       "<Figure size 576x360 with 1 Axes>"
      ]
     },
     "metadata": {
      "needs_background": "light"
     },
     "output_type": "display_data"
    }
   ],
   "source": [
    "plt.figure(figsize=(8,5))\n",
    "xgb.plot_importance(xg_model_1, ax=plt.gca())"
   ]
  },
  {
   "cell_type": "code",
   "execution_count": 56,
   "id": "189b7397",
   "metadata": {},
   "outputs": [
    {
     "data": {
      "image/png": "[encoded data removed]",
      "text/plain": [
       "<Figure size 720x720 with 1 Axes>"
      ]
     },
     "metadata": {
      "needs_background": "light"
     },
     "output_type": "display_data"
    }
   ],
   "source": [
    "plt.figure(figsize=(10,10))\n",
    "plt.scatter(y_test, y_pred_xg_model_1, c='crimson')\n",
    "plt.xlim(0,1)\n",
    "plt.ylim(0,1)\n",
    "plt.xlabel('True Values', fontsize=15)\n",
    "plt.ylabel('Predictions', fontsize=15)\n",
    "plt.show()"
   ]
  },
  {
   "cell_type": "markdown",
   "id": "BC-5gLXDaAUL",
   "metadata": {
    "id": "BC-5gLXDaAUL"
   },
   "source": [
    "### XGB model 2: Random Search XGB Optimiser"
   ]
  },
  {
   "cell_type": "code",
   "execution_count": 16,
   "id": "Jo28f2U4Z2_8",
   "metadata": {
    "id": "Jo28f2U4Z2_8"
   },
   "outputs": [
    {
     "data": {
      "text/plain": [
       "GridSearchCV(cv=3,\n",
       "             estimator=XGBRegressor(base_score=None, booster=None,\n",
       "                                    colsample_bylevel=None,\n",
       "                                    colsample_bynode=None,\n",
       "                                    colsample_bytree=None,\n",
       "                                    enable_categorical=False, gamma=None,\n",
       "                                    gpu_id=None, importance_type=None,\n",
       "                                    interaction_constraints=None,\n",
       "                                    learning_rate=None, max_delta_step=None,\n",
       "                                    max_depth=None, min_child_weight=None,\n",
       "                                    missing=nan, monotone_constraints=None,\n",
       "                                    n...\n",
       "                                    random_state=None, reg_alpha=None,\n",
       "                                    reg_lambda=None, scale_pos_weight=None,\n",
       "                                    subsample=None, tree_method=None,\n",
       "                                    validate_parameters=None, verbosity=None),\n",
       "             n_jobs=4,\n",
       "             param_grid={'colsample_bytree': [0.3, 0.4, 0.5, 0.7],\n",
       "                         'eta': [0.05, 0.1, 0.15, 0.2, 0.25, 0.3],\n",
       "                         'gamma': [0.0, 0.1, 0.2, 0.3, 0.4],\n",
       "                         'max_depth': [3, 4, 5, 6, 8, 10, 12, 15],\n",
       "                         'min_child_weight': [1, 3, 5, 7]},\n",
       "             scoring='neg_mean_squared_error')"
      ]
     },
     "execution_count": 16,
     "metadata": {},
     "output_type": "execute_result"
    }
   ],
   "source": [
    "# to create this XGB model, we will be running a grid search \n",
    "# of the most significant parameters that with values that seem\n",
    "# reasonable with regards to our dataset\n",
    "\n",
    "clf = xgb.XGBRegressor() \n",
    "parameters = {\n",
    "     \"eta\"    : [0.05, 0.10, 0.15, 0.20, 0.25, 0.30],\n",
    "     \"max_depth\"        : [3, 4, 5, 6, 8, 10, 12, 15],\n",
    "     \"min_child_weight\" : [1, 3, 5, 7],\n",
    "     \"gamma\"            : [0.0, 0.1, 0.2 , 0.3, 0.4],\n",
    "     \"colsample_bytree\" : [0.3, 0.4, 0.5 , 0.7]\n",
    "     }\n",
    "\n",
    "grid = GridSearchCV(clf,\n",
    "                    parameters, n_jobs = 4,\n",
    "                    scoring = 'neg_mean_squared_error',\n",
    "                    cv=3)\n",
    "\n",
    "grid.fit(X_train, y_train)"
   ]
  },
  {
   "cell_type": "code",
   "execution_count": 17,
   "id": "hXwygTgcZ28-",
   "metadata": {
    "id": "hXwygTgcZ28-",
    "scrolled": false
   },
   "outputs": [
    {
     "name": "stdout",
     "output_type": "stream",
     "text": [
      "\n",
      " Best estimator:\n",
      "XGBRegressor(base_score=0.5, booster='gbtree', colsample_bylevel=1,\n",
      "             colsample_bynode=1, colsample_bytree=0.7, enable_categorical=False,\n",
      "             eta=0.1, gamma=0.4, gpu_id=-1, importance_type=None,\n",
      "             interaction_constraints='', learning_rate=0.100000001,\n",
      "             max_delta_step=0, max_depth=12, min_child_weight=3, missing=nan,\n",
      "             monotone_constraints='()', n_estimators=100, n_jobs=12,\n",
      "             num_parallel_tree=1, predictor='auto', random_state=0, reg_alpha=0,\n",
      "             reg_lambda=1, scale_pos_weight=1, subsample=1, tree_method='exact',\n",
      "             validate_parameters=1, verbosity=None)\n",
      "\n",
      " Best score:\n",
      "-0.01394774569757002\n",
      "\n",
      " Best parameters:\n",
      "{'colsample_bytree': 0.7, 'eta': 0.1, 'gamma': 0.4, 'max_depth': 12, 'min_child_weight': 3}\n"
     ]
    }
   ],
   "source": [
    "print('\\n Best estimator:')\n",
    "print(grid.best_estimator_)\n",
    "print('\\n Best score:')\n",
    "print(grid.best_score_)\n",
    "print('\\n Best parameters:')\n",
    "print(grid.best_params_)"
   ]
  },
  {
   "cell_type": "code",
   "execution_count": 18,
   "id": "954e2bc9",
   "metadata": {},
   "outputs": [],
   "source": [
    "# optimised XGB\n",
    "params_gs = {\n",
    "    'max_depth': 12,\n",
    "    'min_child_weight': 3,\n",
    "    'eta':.1,\n",
    "    'gamma': 0.4,\n",
    "    'colsample_bytree': 0.7,\n",
    "    'objective':'reg:squarederror',\n",
    "}\n",
    "\n",
    "xg_model_gs = xgb.train(params_gs, data_dmatrix_train, num_boost_round=132)\n",
    "y_pred_xg_model_gs = xg_model_gs.predict(data_dmatrix_test)"
   ]
  },
  {
   "cell_type": "code",
   "execution_count": 19,
   "id": "c2b2a225",
   "metadata": {},
   "outputs": [
    {
     "name": "stdout",
     "output_type": "stream",
     "text": [
      "Optimized XGBoost\n",
      "R2  :  0.5516111500201621\n",
      "MAE :  0.07254428324354618\n",
      "MSE :  0.013557997566278677\n",
      "RMSE:  0.11643881468942681\n"
     ]
    }
   ],
   "source": [
    "print('Optimized XGBoost')\n",
    "print('R2  : ', r2_score(y_test, y_pred_xg_model_gs))\n",
    "print('MAE : ', mean_absolute_error(y_test, y_pred_xg_model_gs))\n",
    "print('MSE : ', mean_squared_error(y_test, y_pred_xg_model_gs))\n",
    "print('RMSE: ', np.sqrt(mean_squared_error(y_test, y_pred_xg_model_gs)))"
   ]
  },
  {
   "cell_type": "code",
   "execution_count": 20,
   "id": "832aed6a",
   "metadata": {
    "scrolled": true
   },
   "outputs": [
    {
     "data": {
      "text/plain": [
       "<AxesSubplot:title={'center':'Feature importance'}, xlabel='F score', ylabel='Features'>"
      ]
     },
     "execution_count": 20,
     "metadata": {},
     "output_type": "execute_result"
    },
    {
     "data": {
      "image/png": "[encoded data removed]",
      "text/plain": [
       "<Figure size 576x360 with 1 Axes>"
      ]
     },
     "metadata": {
      "needs_background": "light"
     },
     "output_type": "display_data"
    }
   ],
   "source": [
    "plt.figure(figsize=(8,5))\n",
    "xgb.plot_importance(xg_model_gs, ax=plt.gca())"
   ]
  },
  {
   "cell_type": "code",
   "execution_count": 55,
   "id": "4e0adc13",
   "metadata": {},
   "outputs": [
    {
     "data": {
      "image/png": "[encoded data removed]",
      "text/plain": [
       "<Figure size 720x720 with 1 Axes>"
      ]
     },
     "metadata": {
      "needs_background": "light"
     },
     "output_type": "display_data"
    }
   ],
   "source": [
    "plt.figure(figsize=(10,10))\n",
    "plt.scatter(y_test, y_pred_xg_model_gs, c='crimson')\n",
    "plt.xlim(0,1)\n",
    "plt.ylim(0,1)\n",
    "plt.xlabel('True Values', fontsize=15)\n",
    "plt.ylabel('Predictions', fontsize=15)\n",
    "plt.show()"
   ]
  },
  {
   "cell_type": "markdown",
   "id": "hfTByFolaGfd",
   "metadata": {
    "id": "hfTByFolaGfd"
   },
   "source": [
    "### XGB model 3: Methodical XBG Optimiser"
   ]
  },
  {
   "cell_type": "code",
   "execution_count": 36,
   "id": "e0usTuAEZ23O",
   "metadata": {
    "id": "e0usTuAEZ23O"
   },
   "outputs": [],
   "source": [
    "# In this model we will be dealing with the problem of\n",
    "# defining the optimal parameters, more methodically.\n",
    "# When those are calculated, they will be added to the\n",
    "#  aram dictionary like the eval_metric.\n",
    "\n",
    "params['eval_metric'] = \"rmse\"\n",
    "num_boost_round = 999"
   ]
  },
  {
   "cell_type": "code",
   "execution_count": 23,
   "id": "-5i2upowZ20t",
   "metadata": {
    "id": "-5i2upowZ20t",
    "scrolled": true
   },
   "outputs": [
    {
     "name": "stdout",
     "output_type": "stream",
     "text": [
      "[0]\tValid-rmse:0.28706\n",
      "[1]\tValid-rmse:0.21831\n",
      "[2]\tValid-rmse:0.17460\n",
      "[3]\tValid-rmse:0.14819\n",
      "[4]\tValid-rmse:0.13303\n",
      "[5]\tValid-rmse:0.12462\n",
      "[6]\tValid-rmse:0.12020\n",
      "[7]\tValid-rmse:0.11768\n",
      "[8]\tValid-rmse:0.11629\n",
      "[9]\tValid-rmse:0.11556\n",
      "[10]\tValid-rmse:0.11519\n",
      "[11]\tValid-rmse:0.11489\n",
      "[12]\tValid-rmse:0.11464\n",
      "[13]\tValid-rmse:0.11458\n",
      "[14]\tValid-rmse:0.11449\n",
      "[15]\tValid-rmse:0.11447\n",
      "[16]\tValid-rmse:0.11440\n",
      "[17]\tValid-rmse:0.11420\n",
      "[18]\tValid-rmse:0.11413\n",
      "[19]\tValid-rmse:0.11412\n",
      "[20]\tValid-rmse:0.11407\n",
      "[21]\tValid-rmse:0.11412\n",
      "[22]\tValid-rmse:0.11414\n",
      "[23]\tValid-rmse:0.11417\n",
      "[24]\tValid-rmse:0.11405\n",
      "[25]\tValid-rmse:0.11409\n",
      "[26]\tValid-rmse:0.11404\n",
      "[27]\tValid-rmse:0.11399\n",
      "[28]\tValid-rmse:0.11389\n",
      "[29]\tValid-rmse:0.11393\n",
      "[30]\tValid-rmse:0.11391\n",
      "[31]\tValid-rmse:0.11385\n",
      "[32]\tValid-rmse:0.11366\n",
      "[33]\tValid-rmse:0.11371\n",
      "[34]\tValid-rmse:0.11367\n",
      "[35]\tValid-rmse:0.11371\n",
      "[36]\tValid-rmse:0.11368\n",
      "[37]\tValid-rmse:0.11359\n",
      "[38]\tValid-rmse:0.11362\n",
      "[39]\tValid-rmse:0.11366\n",
      "[40]\tValid-rmse:0.11373\n",
      "[41]\tValid-rmse:0.11375\n",
      "[42]\tValid-rmse:0.11364\n",
      "[43]\tValid-rmse:0.11362\n",
      "[44]\tValid-rmse:0.11364\n",
      "[45]\tValid-rmse:0.11360\n",
      "[46]\tValid-rmse:0.11365\n",
      "[47]\tValid-rmse:0.11367\n",
      "Best rmse: 0.11 with 38 rounds\n"
     ]
    }
   ],
   "source": [
    "# This parameter (not part of the dictionary) is called num_boost_round and corresponds\n",
    "# to the number of boosting rounds.\n",
    "# Its optimal value highly depends on the other parameters, and thus it should be re-tuned\n",
    "# each time we update a parameter.\n",
    "# This could be done by tuning it together with all parameters\n",
    "# in a grid-search, but it requires a lot of computational effort.\n",
    "\n",
    "model_x = xgb.train(\n",
    "    params,\n",
    "    data_dmatrix_train,\n",
    "    num_boost_round=num_boost_round,\n",
    "    evals=[(data_dmatrix_valid, \"Valid\")],\n",
    "    early_stopping_rounds=10\n",
    ")\n",
    "\n",
    "print(\"Best rmse: {:.2f} with {} rounds\".format(\n",
    "                 model_x.best_score,\n",
    "                 model_x.best_iteration+1))"
   ]
  },
  {
   "cell_type": "code",
   "execution_count": 24,
   "id": "acbe0815",
   "metadata": {
    "scrolled": true
   },
   "outputs": [
    {
     "data": {
      "text/html": [
       "<div>\n",
       "<style scoped>\n",
       "    .dataframe tbody tr th:only-of-type {\n",
       "        vertical-align: middle;\n",
       "    }\n",
       "\n",
       "    .dataframe tbody tr th {\n",
       "        vertical-align: top;\n",
       "    }\n",
       "\n",
       "    .dataframe thead th {\n",
       "        text-align: right;\n",
       "    }\n",
       "</style>\n",
       "<table border=\"1\" class=\"dataframe\">\n",
       "  <thead>\n",
       "    <tr style=\"text-align: right;\">\n",
       "      <th></th>\n",
       "      <th>train-rmse-mean</th>\n",
       "      <th>train-rmse-std</th>\n",
       "      <th>test-rmse-mean</th>\n",
       "      <th>test-rmse-std</th>\n",
       "    </tr>\n",
       "  </thead>\n",
       "  <tbody>\n",
       "    <tr>\n",
       "      <th>0</th>\n",
       "      <td>0.285306</td>\n",
       "      <td>0.000121</td>\n",
       "      <td>0.285532</td>\n",
       "      <td>0.000530</td>\n",
       "    </tr>\n",
       "    <tr>\n",
       "      <th>1</th>\n",
       "      <td>0.216930</td>\n",
       "      <td>0.000243</td>\n",
       "      <td>0.217427</td>\n",
       "      <td>0.000825</td>\n",
       "    </tr>\n",
       "    <tr>\n",
       "      <th>2</th>\n",
       "      <td>0.173468</td>\n",
       "      <td>0.000351</td>\n",
       "      <td>0.174391</td>\n",
       "      <td>0.001195</td>\n",
       "    </tr>\n",
       "    <tr>\n",
       "      <th>3</th>\n",
       "      <td>0.147260</td>\n",
       "      <td>0.000469</td>\n",
       "      <td>0.148624</td>\n",
       "      <td>0.001618</td>\n",
       "    </tr>\n",
       "    <tr>\n",
       "      <th>4</th>\n",
       "      <td>0.132188</td>\n",
       "      <td>0.000517</td>\n",
       "      <td>0.134010</td>\n",
       "      <td>0.001911</td>\n",
       "    </tr>\n",
       "    <tr>\n",
       "      <th>5</th>\n",
       "      <td>0.123884</td>\n",
       "      <td>0.000618</td>\n",
       "      <td>0.126110</td>\n",
       "      <td>0.002164</td>\n",
       "    </tr>\n",
       "    <tr>\n",
       "      <th>6</th>\n",
       "      <td>0.119294</td>\n",
       "      <td>0.000662</td>\n",
       "      <td>0.121828</td>\n",
       "      <td>0.002194</td>\n",
       "    </tr>\n",
       "    <tr>\n",
       "      <th>7</th>\n",
       "      <td>0.116703</td>\n",
       "      <td>0.000720</td>\n",
       "      <td>0.119600</td>\n",
       "      <td>0.002323</td>\n",
       "    </tr>\n",
       "    <tr>\n",
       "      <th>8</th>\n",
       "      <td>0.115214</td>\n",
       "      <td>0.000734</td>\n",
       "      <td>0.118429</td>\n",
       "      <td>0.002348</td>\n",
       "    </tr>\n",
       "    <tr>\n",
       "      <th>9</th>\n",
       "      <td>0.114222</td>\n",
       "      <td>0.000710</td>\n",
       "      <td>0.117745</td>\n",
       "      <td>0.002466</td>\n",
       "    </tr>\n",
       "    <tr>\n",
       "      <th>10</th>\n",
       "      <td>0.113561</td>\n",
       "      <td>0.000701</td>\n",
       "      <td>0.117366</td>\n",
       "      <td>0.002494</td>\n",
       "    </tr>\n",
       "    <tr>\n",
       "      <th>11</th>\n",
       "      <td>0.113088</td>\n",
       "      <td>0.000646</td>\n",
       "      <td>0.117100</td>\n",
       "      <td>0.002530</td>\n",
       "    </tr>\n",
       "    <tr>\n",
       "      <th>12</th>\n",
       "      <td>0.112705</td>\n",
       "      <td>0.000643</td>\n",
       "      <td>0.116955</td>\n",
       "      <td>0.002540</td>\n",
       "    </tr>\n",
       "    <tr>\n",
       "      <th>13</th>\n",
       "      <td>0.112307</td>\n",
       "      <td>0.000667</td>\n",
       "      <td>0.116834</td>\n",
       "      <td>0.002502</td>\n",
       "    </tr>\n",
       "    <tr>\n",
       "      <th>14</th>\n",
       "      <td>0.111955</td>\n",
       "      <td>0.000626</td>\n",
       "      <td>0.116735</td>\n",
       "      <td>0.002525</td>\n",
       "    </tr>\n",
       "    <tr>\n",
       "      <th>15</th>\n",
       "      <td>0.111657</td>\n",
       "      <td>0.000638</td>\n",
       "      <td>0.116679</td>\n",
       "      <td>0.002510</td>\n",
       "    </tr>\n",
       "    <tr>\n",
       "      <th>16</th>\n",
       "      <td>0.111462</td>\n",
       "      <td>0.000607</td>\n",
       "      <td>0.116654</td>\n",
       "      <td>0.002509</td>\n",
       "    </tr>\n",
       "    <tr>\n",
       "      <th>17</th>\n",
       "      <td>0.111240</td>\n",
       "      <td>0.000612</td>\n",
       "      <td>0.116626</td>\n",
       "      <td>0.002524</td>\n",
       "    </tr>\n",
       "    <tr>\n",
       "      <th>18</th>\n",
       "      <td>0.111053</td>\n",
       "      <td>0.000660</td>\n",
       "      <td>0.116604</td>\n",
       "      <td>0.002524</td>\n",
       "    </tr>\n",
       "    <tr>\n",
       "      <th>19</th>\n",
       "      <td>0.110857</td>\n",
       "      <td>0.000605</td>\n",
       "      <td>0.116584</td>\n",
       "      <td>0.002505</td>\n",
       "    </tr>\n",
       "    <tr>\n",
       "      <th>20</th>\n",
       "      <td>0.110656</td>\n",
       "      <td>0.000642</td>\n",
       "      <td>0.116539</td>\n",
       "      <td>0.002479</td>\n",
       "    </tr>\n",
       "    <tr>\n",
       "      <th>21</th>\n",
       "      <td>0.110450</td>\n",
       "      <td>0.000643</td>\n",
       "      <td>0.116547</td>\n",
       "      <td>0.002440</td>\n",
       "    </tr>\n",
       "    <tr>\n",
       "      <th>22</th>\n",
       "      <td>0.110342</td>\n",
       "      <td>0.000691</td>\n",
       "      <td>0.116521</td>\n",
       "      <td>0.002407</td>\n",
       "    </tr>\n",
       "    <tr>\n",
       "      <th>23</th>\n",
       "      <td>0.110135</td>\n",
       "      <td>0.000710</td>\n",
       "      <td>0.116466</td>\n",
       "      <td>0.002422</td>\n",
       "    </tr>\n",
       "    <tr>\n",
       "      <th>24</th>\n",
       "      <td>0.109842</td>\n",
       "      <td>0.000690</td>\n",
       "      <td>0.116457</td>\n",
       "      <td>0.002472</td>\n",
       "    </tr>\n",
       "    <tr>\n",
       "      <th>25</th>\n",
       "      <td>0.109695</td>\n",
       "      <td>0.000654</td>\n",
       "      <td>0.116470</td>\n",
       "      <td>0.002461</td>\n",
       "    </tr>\n",
       "    <tr>\n",
       "      <th>26</th>\n",
       "      <td>0.109542</td>\n",
       "      <td>0.000699</td>\n",
       "      <td>0.116455</td>\n",
       "      <td>0.002456</td>\n",
       "    </tr>\n",
       "    <tr>\n",
       "      <th>27</th>\n",
       "      <td>0.109416</td>\n",
       "      <td>0.000754</td>\n",
       "      <td>0.116406</td>\n",
       "      <td>0.002393</td>\n",
       "    </tr>\n",
       "    <tr>\n",
       "      <th>28</th>\n",
       "      <td>0.109203</td>\n",
       "      <td>0.000726</td>\n",
       "      <td>0.116409</td>\n",
       "      <td>0.002383</td>\n",
       "    </tr>\n",
       "    <tr>\n",
       "      <th>29</th>\n",
       "      <td>0.109073</td>\n",
       "      <td>0.000741</td>\n",
       "      <td>0.116406</td>\n",
       "      <td>0.002394</td>\n",
       "    </tr>\n",
       "    <tr>\n",
       "      <th>30</th>\n",
       "      <td>0.108912</td>\n",
       "      <td>0.000735</td>\n",
       "      <td>0.116369</td>\n",
       "      <td>0.002414</td>\n",
       "    </tr>\n",
       "    <tr>\n",
       "      <th>31</th>\n",
       "      <td>0.108809</td>\n",
       "      <td>0.000693</td>\n",
       "      <td>0.116360</td>\n",
       "      <td>0.002414</td>\n",
       "    </tr>\n",
       "    <tr>\n",
       "      <th>32</th>\n",
       "      <td>0.108636</td>\n",
       "      <td>0.000674</td>\n",
       "      <td>0.116327</td>\n",
       "      <td>0.002456</td>\n",
       "    </tr>\n",
       "    <tr>\n",
       "      <th>33</th>\n",
       "      <td>0.108435</td>\n",
       "      <td>0.000625</td>\n",
       "      <td>0.116320</td>\n",
       "      <td>0.002454</td>\n",
       "    </tr>\n",
       "    <tr>\n",
       "      <th>34</th>\n",
       "      <td>0.108276</td>\n",
       "      <td>0.000564</td>\n",
       "      <td>0.116278</td>\n",
       "      <td>0.002479</td>\n",
       "    </tr>\n",
       "    <tr>\n",
       "      <th>35</th>\n",
       "      <td>0.108140</td>\n",
       "      <td>0.000593</td>\n",
       "      <td>0.116264</td>\n",
       "      <td>0.002473</td>\n",
       "    </tr>\n",
       "    <tr>\n",
       "      <th>36</th>\n",
       "      <td>0.107985</td>\n",
       "      <td>0.000590</td>\n",
       "      <td>0.116293</td>\n",
       "      <td>0.002475</td>\n",
       "    </tr>\n",
       "    <tr>\n",
       "      <th>37</th>\n",
       "      <td>0.107831</td>\n",
       "      <td>0.000623</td>\n",
       "      <td>0.116275</td>\n",
       "      <td>0.002481</td>\n",
       "    </tr>\n",
       "    <tr>\n",
       "      <th>38</th>\n",
       "      <td>0.107703</td>\n",
       "      <td>0.000603</td>\n",
       "      <td>0.116298</td>\n",
       "      <td>0.002504</td>\n",
       "    </tr>\n",
       "    <tr>\n",
       "      <th>39</th>\n",
       "      <td>0.107551</td>\n",
       "      <td>0.000640</td>\n",
       "      <td>0.116304</td>\n",
       "      <td>0.002504</td>\n",
       "    </tr>\n",
       "    <tr>\n",
       "      <th>40</th>\n",
       "      <td>0.107503</td>\n",
       "      <td>0.000640</td>\n",
       "      <td>0.116296</td>\n",
       "      <td>0.002499</td>\n",
       "    </tr>\n",
       "    <tr>\n",
       "      <th>41</th>\n",
       "      <td>0.107418</td>\n",
       "      <td>0.000587</td>\n",
       "      <td>0.116286</td>\n",
       "      <td>0.002505</td>\n",
       "    </tr>\n",
       "    <tr>\n",
       "      <th>42</th>\n",
       "      <td>0.107271</td>\n",
       "      <td>0.000612</td>\n",
       "      <td>0.116282</td>\n",
       "      <td>0.002483</td>\n",
       "    </tr>\n",
       "    <tr>\n",
       "      <th>43</th>\n",
       "      <td>0.107097</td>\n",
       "      <td>0.000573</td>\n",
       "      <td>0.116224</td>\n",
       "      <td>0.002508</td>\n",
       "    </tr>\n",
       "    <tr>\n",
       "      <th>44</th>\n",
       "      <td>0.107005</td>\n",
       "      <td>0.000578</td>\n",
       "      <td>0.116220</td>\n",
       "      <td>0.002525</td>\n",
       "    </tr>\n",
       "    <tr>\n",
       "      <th>45</th>\n",
       "      <td>0.106832</td>\n",
       "      <td>0.000557</td>\n",
       "      <td>0.116193</td>\n",
       "      <td>0.002522</td>\n",
       "    </tr>\n",
       "    <tr>\n",
       "      <th>46</th>\n",
       "      <td>0.106753</td>\n",
       "      <td>0.000554</td>\n",
       "      <td>0.116204</td>\n",
       "      <td>0.002493</td>\n",
       "    </tr>\n",
       "    <tr>\n",
       "      <th>47</th>\n",
       "      <td>0.106702</td>\n",
       "      <td>0.000559</td>\n",
       "      <td>0.116225</td>\n",
       "      <td>0.002492</td>\n",
       "    </tr>\n",
       "    <tr>\n",
       "      <th>48</th>\n",
       "      <td>0.106603</td>\n",
       "      <td>0.000560</td>\n",
       "      <td>0.116213</td>\n",
       "      <td>0.002479</td>\n",
       "    </tr>\n",
       "    <tr>\n",
       "      <th>49</th>\n",
       "      <td>0.106486</td>\n",
       "      <td>0.000522</td>\n",
       "      <td>0.116182</td>\n",
       "      <td>0.002483</td>\n",
       "    </tr>\n",
       "    <tr>\n",
       "      <th>50</th>\n",
       "      <td>0.106380</td>\n",
       "      <td>0.000535</td>\n",
       "      <td>0.116157</td>\n",
       "      <td>0.002486</td>\n",
       "    </tr>\n",
       "    <tr>\n",
       "      <th>51</th>\n",
       "      <td>0.106242</td>\n",
       "      <td>0.000533</td>\n",
       "      <td>0.116142</td>\n",
       "      <td>0.002529</td>\n",
       "    </tr>\n",
       "    <tr>\n",
       "      <th>52</th>\n",
       "      <td>0.106056</td>\n",
       "      <td>0.000539</td>\n",
       "      <td>0.116089</td>\n",
       "      <td>0.002515</td>\n",
       "    </tr>\n",
       "  </tbody>\n",
       "</table>\n",
       "</div>"
      ],
      "text/plain": [
       "    train-rmse-mean  train-rmse-std  test-rmse-mean  test-rmse-std\n",
       "0          0.285306        0.000121        0.285532       0.000530\n",
       "1          0.216930        0.000243        0.217427       0.000825\n",
       "2          0.173468        0.000351        0.174391       0.001195\n",
       "3          0.147260        0.000469        0.148624       0.001618\n",
       "4          0.132188        0.000517        0.134010       0.001911\n",
       "5          0.123884        0.000618        0.126110       0.002164\n",
       "6          0.119294        0.000662        0.121828       0.002194\n",
       "7          0.116703        0.000720        0.119600       0.002323\n",
       "8          0.115214        0.000734        0.118429       0.002348\n",
       "9          0.114222        0.000710        0.117745       0.002466\n",
       "10         0.113561        0.000701        0.117366       0.002494\n",
       "11         0.113088        0.000646        0.117100       0.002530\n",
       "12         0.112705        0.000643        0.116955       0.002540\n",
       "13         0.112307        0.000667        0.116834       0.002502\n",
       "14         0.111955        0.000626        0.116735       0.002525\n",
       "15         0.111657        0.000638        0.116679       0.002510\n",
       "16         0.111462        0.000607        0.116654       0.002509\n",
       "17         0.111240        0.000612        0.116626       0.002524\n",
       "18         0.111053        0.000660        0.116604       0.002524\n",
       "19         0.110857        0.000605        0.116584       0.002505\n",
       "20         0.110656        0.000642        0.116539       0.002479\n",
       "21         0.110450        0.000643        0.116547       0.002440\n",
       "22         0.110342        0.000691        0.116521       0.002407\n",
       "23         0.110135        0.000710        0.116466       0.002422\n",
       "24         0.109842        0.000690        0.116457       0.002472\n",
       "25         0.109695        0.000654        0.116470       0.002461\n",
       "26         0.109542        0.000699        0.116455       0.002456\n",
       "27         0.109416        0.000754        0.116406       0.002393\n",
       "28         0.109203        0.000726        0.116409       0.002383\n",
       "29         0.109073        0.000741        0.116406       0.002394\n",
       "30         0.108912        0.000735        0.116369       0.002414\n",
       "31         0.108809        0.000693        0.116360       0.002414\n",
       "32         0.108636        0.000674        0.116327       0.002456\n",
       "33         0.108435        0.000625        0.116320       0.002454\n",
       "34         0.108276        0.000564        0.116278       0.002479\n",
       "35         0.108140        0.000593        0.116264       0.002473\n",
       "36         0.107985        0.000590        0.116293       0.002475\n",
       "37         0.107831        0.000623        0.116275       0.002481\n",
       "38         0.107703        0.000603        0.116298       0.002504\n",
       "39         0.107551        0.000640        0.116304       0.002504\n",
       "40         0.107503        0.000640        0.116296       0.002499\n",
       "41         0.107418        0.000587        0.116286       0.002505\n",
       "42         0.107271        0.000612        0.116282       0.002483\n",
       "43         0.107097        0.000573        0.116224       0.002508\n",
       "44         0.107005        0.000578        0.116220       0.002525\n",
       "45         0.106832        0.000557        0.116193       0.002522\n",
       "46         0.106753        0.000554        0.116204       0.002493\n",
       "47         0.106702        0.000559        0.116225       0.002492\n",
       "48         0.106603        0.000560        0.116213       0.002479\n",
       "49         0.106486        0.000522        0.116182       0.002483\n",
       "50         0.106380        0.000535        0.116157       0.002486\n",
       "51         0.106242        0.000533        0.116142       0.002529\n",
       "52         0.106056        0.000539        0.116089       0.002515"
      ]
     },
     "execution_count": 24,
     "metadata": {},
     "output_type": "execute_result"
    }
   ],
   "source": [
    "# In order to tune the other hyperparameters, we will use the cv function from XGBoost.\n",
    "# It allows us to run cross-validation on our training dataset and returns a RMSE score.\n",
    "# An example of its functionality:\n",
    "\n",
    "cv_results = xgb.cv(\n",
    "    params,\n",
    "    data_dmatrix_train,\n",
    "    num_boost_round=num_boost_round,\n",
    "    seed=42,\n",
    "    nfold=5,\n",
    "    metrics={'rmse'},\n",
    "    early_stopping_rounds=10\n",
    ")\n",
    "cv_results"
   ]
  },
  {
   "cell_type": "code",
   "execution_count": 25,
   "id": "VtJxcY5jZ2yJ",
   "metadata": {
    "id": "VtJxcY5jZ2yJ"
   },
   "outputs": [
    {
     "data": {
      "text/plain": [
       "0.1160892"
      ]
     },
     "execution_count": 25,
     "metadata": {},
     "output_type": "execute_result"
    }
   ],
   "source": [
    "cv_results['test-rmse-mean'].min()"
   ]
  },
  {
   "cell_type": "markdown",
   "id": "959a4f9f",
   "metadata": {
    "id": "5YLvfOPUZ2v2"
   },
   "source": [
    "Calculate max_depth and min_child_weight\n",
    "\n",
    "Those parameters add constraints on the architecture of the trees, thus,\n",
    "it is important to tune them together in order to find\n",
    "a good trade-off between model bias and variance."
   ]
  },
  {
   "cell_type": "code",
   "execution_count": 26,
   "id": "rR7NxmaaZ2tH",
   "metadata": {
    "id": "rR7NxmaaZ2tH"
   },
   "outputs": [],
   "source": [
    "gridsearch_params = [\n",
    "    (max_depth, min_child_weight)\n",
    "    for max_depth in range(1,20)\n",
    "    for min_child_weight in range(1,20)\n",
    "]"
   ]
  },
  {
   "cell_type": "code",
   "execution_count": 27,
   "id": "SxLjychFZ2qR",
   "metadata": {
    "id": "SxLjychFZ2qR",
    "scrolled": true
   },
   "outputs": [
    {
     "name": "stdout",
     "output_type": "stream",
     "text": [
      "CV with max_depth=1, min_child_weight=1\n",
      "\tRMSE 0.1191924 for 884 rounds\n",
      "CV with max_depth=1, min_child_weight=2\n",
      "\tRMSE 0.1191924 for 884 rounds\n",
      "CV with max_depth=1, min_child_weight=3\n",
      "\tRMSE 0.1191924 for 884 rounds\n",
      "CV with max_depth=1, min_child_weight=4\n",
      "\tRMSE 0.1191924 for 884 rounds\n",
      "CV with max_depth=1, min_child_weight=5\n",
      "\tRMSE 0.119384 for 463 rounds\n",
      "CV with max_depth=1, min_child_weight=6\n",
      "\tRMSE 0.11938839999999999 for 459 rounds\n",
      "CV with max_depth=1, min_child_weight=7\n",
      "\tRMSE 0.11927099999999999 for 685 rounds\n",
      "CV with max_depth=1, min_child_weight=8\n",
      "\tRMSE 0.11921819999999998 for 837 rounds\n",
      "CV with max_depth=1, min_child_weight=9\n",
      "\tRMSE 0.1192798 for 640 rounds\n",
      "CV with max_depth=1, min_child_weight=10\n",
      "\tRMSE 0.1192602 for 691 rounds\n",
      "CV with max_depth=1, min_child_weight=11\n",
      "\tRMSE 0.1192806 for 650 rounds\n",
      "CV with max_depth=1, min_child_weight=12\n",
      "\tRMSE 0.1191902 for 941 rounds\n",
      "CV with max_depth=1, min_child_weight=13\n",
      "\tRMSE 0.1192422 for 750 rounds\n",
      "CV with max_depth=1, min_child_weight=14\n",
      "\tRMSE 0.1192422 for 750 rounds\n",
      "CV with max_depth=1, min_child_weight=15\n",
      "\tRMSE 0.11924939999999999 for 727 rounds\n",
      "CV with max_depth=1, min_child_weight=16\n",
      "\tRMSE 0.1192596 for 695 rounds\n",
      "CV with max_depth=1, min_child_weight=17\n",
      "\tRMSE 0.1193546 for 497 rounds\n",
      "CV with max_depth=1, min_child_weight=18\n",
      "\tRMSE 0.1191778 for 991 rounds\n",
      "CV with max_depth=1, min_child_weight=19\n",
      "\tRMSE 0.11919739999999998 for 899 rounds\n",
      "CV with max_depth=2, min_child_weight=1\n",
      "\tRMSE 0.1175268 for 239 rounds\n",
      "CV with max_depth=2, min_child_weight=2\n",
      "\tRMSE 0.11768459999999999 for 180 rounds\n",
      "CV with max_depth=2, min_child_weight=3\n",
      "\tRMSE 0.11752100000000001 for 205 rounds\n",
      "CV with max_depth=2, min_child_weight=4\n",
      "\tRMSE 0.11748719999999999 for 230 rounds\n",
      "CV with max_depth=2, min_child_weight=5\n",
      "\tRMSE 0.11730739999999999 for 347 rounds\n",
      "CV with max_depth=2, min_child_weight=6\n",
      "\tRMSE 0.117694 for 176 rounds\n",
      "CV with max_depth=2, min_child_weight=7\n",
      "\tRMSE 0.11751020000000001 for 255 rounds\n",
      "CV with max_depth=2, min_child_weight=8\n",
      "\tRMSE 0.11774659999999999 for 147 rounds\n",
      "CV with max_depth=2, min_child_weight=9\n",
      "\tRMSE 0.11757219999999999 for 227 rounds\n",
      "CV with max_depth=2, min_child_weight=10\n",
      "\tRMSE 0.11763520000000001 for 197 rounds\n",
      "CV with max_depth=2, min_child_weight=11\n",
      "\tRMSE 0.1175422 for 253 rounds\n",
      "CV with max_depth=2, min_child_weight=12\n",
      "\tRMSE 0.117493 for 314 rounds\n",
      "CV with max_depth=2, min_child_weight=13\n",
      "\tRMSE 0.11759620000000001 for 247 rounds\n",
      "CV with max_depth=2, min_child_weight=14\n",
      "\tRMSE 0.1175578 for 256 rounds\n",
      "CV with max_depth=2, min_child_weight=15\n",
      "\tRMSE 0.11757340000000001 for 244 rounds\n",
      "CV with max_depth=2, min_child_weight=16\n",
      "\tRMSE 0.1176682 for 219 rounds\n",
      "CV with max_depth=2, min_child_weight=17\n",
      "\tRMSE 0.11754039999999999 for 291 rounds\n",
      "CV with max_depth=2, min_child_weight=18\n",
      "\tRMSE 0.1175484 for 271 rounds\n",
      "CV with max_depth=2, min_child_weight=19\n",
      "\tRMSE 0.11774860000000001 for 178 rounds\n",
      "CV with max_depth=3, min_child_weight=1\n",
      "\tRMSE 0.1166288 for 155 rounds\n",
      "CV with max_depth=3, min_child_weight=2\n",
      "\tRMSE 0.11682820000000001 for 137 rounds\n",
      "CV with max_depth=3, min_child_weight=3\n",
      "\tRMSE 0.116601 for 206 rounds\n",
      "CV with max_depth=3, min_child_weight=4\n",
      "\tRMSE 0.11660300000000001 for 213 rounds\n",
      "CV with max_depth=3, min_child_weight=5\n",
      "\tRMSE 0.11640740000000001 for 269 rounds\n",
      "CV with max_depth=3, min_child_weight=6\n",
      "\tRMSE 0.1166284 for 239 rounds\n",
      "CV with max_depth=3, min_child_weight=7\n",
      "\tRMSE 0.1166772 for 157 rounds\n",
      "CV with max_depth=3, min_child_weight=8\n",
      "\tRMSE 0.1165912 for 180 rounds\n",
      "CV with max_depth=3, min_child_weight=9\n",
      "\tRMSE 0.1168442 for 125 rounds\n",
      "CV with max_depth=3, min_child_weight=10\n",
      "\tRMSE 0.11652960000000001 for 233 rounds\n",
      "CV with max_depth=3, min_child_weight=11\n",
      "\tRMSE 0.1166296 for 228 rounds\n",
      "CV with max_depth=3, min_child_weight=12\n",
      "\tRMSE 0.1168212 for 129 rounds\n",
      "CV with max_depth=3, min_child_weight=13\n",
      "\tRMSE 0.1167402 for 155 rounds\n",
      "CV with max_depth=3, min_child_weight=14\n",
      "\tRMSE 0.1166286 for 194 rounds\n",
      "CV with max_depth=3, min_child_weight=15\n",
      "\tRMSE 0.116681 for 199 rounds\n",
      "CV with max_depth=3, min_child_weight=16\n",
      "\tRMSE 0.116819 for 158 rounds\n",
      "CV with max_depth=3, min_child_weight=17\n",
      "\tRMSE 0.116802 for 129 rounds\n",
      "CV with max_depth=3, min_child_weight=18\n",
      "\tRMSE 0.1166322 for 173 rounds\n",
      "CV with max_depth=3, min_child_weight=19\n",
      "\tRMSE 0.11674119999999999 for 165 rounds\n",
      "CV with max_depth=4, min_child_weight=1\n",
      "\tRMSE 0.1161844 for 126 rounds\n",
      "CV with max_depth=4, min_child_weight=2\n",
      "\tRMSE 0.1164852 for 99 rounds\n",
      "CV with max_depth=4, min_child_weight=3\n",
      "\tRMSE 0.116418 for 112 rounds\n",
      "CV with max_depth=4, min_child_weight=4\n",
      "\tRMSE 0.11631340000000001 for 112 rounds\n",
      "CV with max_depth=4, min_child_weight=5\n",
      "\tRMSE 0.116303 for 107 rounds\n",
      "CV with max_depth=4, min_child_weight=6\n",
      "\tRMSE 0.116509 for 80 rounds\n",
      "CV with max_depth=4, min_child_weight=7\n",
      "\tRMSE 0.1162412 for 121 rounds\n",
      "CV with max_depth=4, min_child_weight=8\n",
      "\tRMSE 0.116249 for 124 rounds\n",
      "CV with max_depth=4, min_child_weight=9\n",
      "\tRMSE 0.1164652 for 107 rounds\n",
      "CV with max_depth=4, min_child_weight=10\n",
      "\tRMSE 0.1162968 for 120 rounds\n",
      "CV with max_depth=4, min_child_weight=11\n",
      "\tRMSE 0.116398 for 124 rounds\n",
      "CV with max_depth=4, min_child_weight=12\n",
      "\tRMSE 0.1164868 for 105 rounds\n",
      "CV with max_depth=4, min_child_weight=13\n",
      "\tRMSE 0.1165266 for 77 rounds\n",
      "CV with max_depth=4, min_child_weight=14\n",
      "\tRMSE 0.11644539999999999 for 112 rounds\n",
      "CV with max_depth=4, min_child_weight=15\n",
      "\tRMSE 0.11647539999999998 for 86 rounds\n",
      "CV with max_depth=4, min_child_weight=16\n",
      "\tRMSE 0.11637539999999999 for 105 rounds\n",
      "CV with max_depth=4, min_child_weight=17\n",
      "\tRMSE 0.1164596 for 98 rounds\n",
      "CV with max_depth=4, min_child_weight=18\n",
      "\tRMSE 0.1164858 for 89 rounds\n",
      "CV with max_depth=4, min_child_weight=19\n",
      "\tRMSE 0.11636379999999999 for 161 rounds\n",
      "CV with max_depth=5, min_child_weight=1\n",
      "\tRMSE 0.11579619999999999 for 118 rounds\n",
      "CV with max_depth=5, min_child_weight=2\n",
      "\tRMSE 0.11594560000000001 for 83 rounds\n",
      "CV with max_depth=5, min_child_weight=3\n",
      "\tRMSE 0.1157702 for 125 rounds\n",
      "CV with max_depth=5, min_child_weight=4\n",
      "\tRMSE 0.1157522 for 101 rounds\n",
      "CV with max_depth=5, min_child_weight=5\n",
      "\tRMSE 0.1158948 for 117 rounds\n",
      "CV with max_depth=5, min_child_weight=6\n",
      "\tRMSE 0.11583819999999997 for 105 rounds\n",
      "CV with max_depth=5, min_child_weight=7\n",
      "\tRMSE 0.11619399999999999 for 58 rounds\n",
      "CV with max_depth=5, min_child_weight=8\n",
      "\tRMSE 0.1161086 for 85 rounds\n",
      "CV with max_depth=5, min_child_weight=9\n",
      "\tRMSE 0.11604600000000001 for 102 rounds\n",
      "CV with max_depth=5, min_child_weight=10\n",
      "\tRMSE 0.11596 for 80 rounds\n",
      "CV with max_depth=5, min_child_weight=11\n",
      "\tRMSE 0.11597640000000001 for 126 rounds\n",
      "CV with max_depth=5, min_child_weight=12\n",
      "\tRMSE 0.116069 for 93 rounds\n",
      "CV with max_depth=5, min_child_weight=13\n",
      "\tRMSE 0.1159592 for 120 rounds\n",
      "CV with max_depth=5, min_child_weight=14\n",
      "\tRMSE 0.11625559999999999 for 62 rounds\n",
      "CV with max_depth=5, min_child_weight=15\n",
      "\tRMSE 0.1161422 for 135 rounds\n",
      "CV with max_depth=5, min_child_weight=16\n",
      "\tRMSE 0.116343 for 71 rounds\n",
      "CV with max_depth=5, min_child_weight=17\n",
      "\tRMSE 0.1161962 for 81 rounds\n",
      "CV with max_depth=5, min_child_weight=18\n",
      "\tRMSE 0.11618279999999999 for 79 rounds\n",
      "CV with max_depth=5, min_child_weight=19\n",
      "\tRMSE 0.11607400000000001 for 120 rounds\n",
      "CV with max_depth=6, min_child_weight=1\n",
      "\tRMSE 0.1160892 for 52 rounds\n",
      "CV with max_depth=6, min_child_weight=2\n",
      "\tRMSE 0.11593679999999999 for 80 rounds\n",
      "CV with max_depth=6, min_child_weight=3\n",
      "\tRMSE 0.1159484 for 40 rounds\n",
      "CV with max_depth=6, min_child_weight=4\n",
      "\tRMSE 0.115994 for 61 rounds\n",
      "CV with max_depth=6, min_child_weight=5\n",
      "\tRMSE 0.11606620000000001 for 56 rounds\n",
      "CV with max_depth=6, min_child_weight=6\n",
      "\tRMSE 0.1160606 for 66 rounds\n",
      "CV with max_depth=6, min_child_weight=7\n",
      "\tRMSE 0.1158688 for 67 rounds\n",
      "CV with max_depth=6, min_child_weight=8\n",
      "\tRMSE 0.11603 for 64 rounds\n",
      "CV with max_depth=6, min_child_weight=9\n",
      "\tRMSE 0.116296 for 58 rounds\n",
      "CV with max_depth=6, min_child_weight=10\n",
      "\tRMSE 0.11609479999999998 for 58 rounds\n",
      "CV with max_depth=6, min_child_weight=11\n",
      "\tRMSE 0.11618440000000001 for 90 rounds\n",
      "CV with max_depth=6, min_child_weight=12\n",
      "\tRMSE 0.11620440000000001 for 53 rounds\n",
      "CV with max_depth=6, min_child_weight=13\n",
      "\tRMSE 0.11623400000000002 for 71 rounds\n",
      "CV with max_depth=6, min_child_weight=14\n",
      "\tRMSE 0.11622099999999999 for 55 rounds\n",
      "CV with max_depth=6, min_child_weight=15\n",
      "\tRMSE 0.116071 for 93 rounds\n",
      "CV with max_depth=6, min_child_weight=16\n",
      "\tRMSE 0.1161384 for 88 rounds\n",
      "CV with max_depth=6, min_child_weight=17\n",
      "\tRMSE 0.1160968 for 64 rounds\n",
      "CV with max_depth=6, min_child_weight=18\n",
      "\tRMSE 0.116254 for 51 rounds\n",
      "CV with max_depth=6, min_child_weight=19\n",
      "\tRMSE 0.11616059999999999 for 69 rounds\n",
      "CV with max_depth=7, min_child_weight=1\n",
      "\tRMSE 0.115784 for 30 rounds\n",
      "CV with max_depth=7, min_child_weight=2\n",
      "\tRMSE 0.1156892 for 58 rounds\n",
      "CV with max_depth=7, min_child_weight=3\n",
      "\tRMSE 0.11573859999999998 for 42 rounds\n",
      "CV with max_depth=7, min_child_weight=4\n",
      "\tRMSE 0.11585619999999999 for 47 rounds\n",
      "CV with max_depth=7, min_child_weight=5\n",
      "\tRMSE 0.1156426 for 60 rounds\n",
      "CV with max_depth=7, min_child_weight=6\n",
      "\tRMSE 0.11589400000000001 for 49 rounds\n",
      "CV with max_depth=7, min_child_weight=7\n",
      "\tRMSE 0.1161632 for 61 rounds\n",
      "CV with max_depth=7, min_child_weight=8\n",
      "\tRMSE 0.1160876 for 36 rounds\n",
      "CV with max_depth=7, min_child_weight=9\n",
      "\tRMSE 0.116263 for 27 rounds\n",
      "CV with max_depth=7, min_child_weight=10\n",
      "\tRMSE 0.11601520000000001 for 86 rounds\n",
      "CV with max_depth=7, min_child_weight=11\n",
      "\tRMSE 0.11602680000000001 for 45 rounds\n",
      "CV with max_depth=7, min_child_weight=12\n",
      "\tRMSE 0.116103 for 64 rounds\n",
      "CV with max_depth=7, min_child_weight=13\n",
      "\tRMSE 0.1159478 for 48 rounds\n",
      "CV with max_depth=7, min_child_weight=14\n",
      "\tRMSE 0.1160984 for 46 rounds\n",
      "CV with max_depth=7, min_child_weight=15\n",
      "\tRMSE 0.11607319999999999 for 47 rounds\n",
      "CV with max_depth=7, min_child_weight=16\n",
      "\tRMSE 0.1159532 for 41 rounds\n",
      "CV with max_depth=7, min_child_weight=17\n",
      "\tRMSE 0.11611180000000001 for 40 rounds\n",
      "CV with max_depth=7, min_child_weight=18\n",
      "\tRMSE 0.1160668 for 64 rounds\n",
      "CV with max_depth=7, min_child_weight=19\n",
      "\tRMSE 0.11601540000000002 for 68 rounds\n",
      "CV with max_depth=8, min_child_weight=1\n",
      "\tRMSE 0.116038 for 22 rounds\n",
      "CV with max_depth=8, min_child_weight=2\n",
      "\tRMSE 0.11581920000000001 for 29 rounds\n",
      "CV with max_depth=8, min_child_weight=3\n",
      "\tRMSE 0.1159124 for 30 rounds\n",
      "CV with max_depth=8, min_child_weight=4\n",
      "\tRMSE 0.11580939999999999 for 18 rounds\n",
      "CV with max_depth=8, min_child_weight=5\n",
      "\tRMSE 0.1159856 for 24 rounds\n",
      "CV with max_depth=8, min_child_weight=6\n",
      "\tRMSE 0.1160774 for 37 rounds\n",
      "CV with max_depth=8, min_child_weight=7\n",
      "\tRMSE 0.1161212 for 43 rounds\n",
      "CV with max_depth=8, min_child_weight=8\n",
      "\tRMSE 0.11603699999999999 for 29 rounds\n",
      "CV with max_depth=8, min_child_weight=9\n",
      "\tRMSE 0.11622740000000001 for 21 rounds\n",
      "CV with max_depth=8, min_child_weight=10\n",
      "\tRMSE 0.11608460000000001 for 29 rounds\n",
      "CV with max_depth=8, min_child_weight=11\n",
      "\tRMSE 0.11588620000000001 for 37 rounds\n",
      "CV with max_depth=8, min_child_weight=12\n",
      "\tRMSE 0.1159684 for 20 rounds\n",
      "CV with max_depth=8, min_child_weight=13\n",
      "\tRMSE 0.11603379999999999 for 21 rounds\n",
      "CV with max_depth=8, min_child_weight=14\n",
      "\tRMSE 0.1160348 for 26 rounds\n",
      "CV with max_depth=8, min_child_weight=15\n",
      "\tRMSE 0.11577299999999999 for 35 rounds\n",
      "CV with max_depth=8, min_child_weight=16\n",
      "\tRMSE 0.1159282 for 29 rounds\n",
      "CV with max_depth=8, min_child_weight=17\n",
      "\tRMSE 0.1159794 for 32 rounds\n",
      "CV with max_depth=8, min_child_weight=18\n",
      "\tRMSE 0.11596519999999999 for 37 rounds\n",
      "CV with max_depth=8, min_child_weight=19\n",
      "\tRMSE 0.1159424 for 30 rounds\n",
      "CV with max_depth=9, min_child_weight=1\n",
      "\tRMSE 0.1156982 for 27 rounds\n",
      "CV with max_depth=9, min_child_weight=2\n",
      "\tRMSE 0.115851 for 18 rounds\n",
      "CV with max_depth=9, min_child_weight=3\n",
      "\tRMSE 0.115666 for 16 rounds\n",
      "CV with max_depth=9, min_child_weight=4\n",
      "\tRMSE 0.11588079999999998 for 23 rounds\n",
      "CV with max_depth=9, min_child_weight=5\n",
      "\tRMSE 0.11594020000000001 for 16 rounds\n",
      "CV with max_depth=9, min_child_weight=6\n",
      "\tRMSE 0.11587739999999999 for 22 rounds\n",
      "CV with max_depth=9, min_child_weight=7\n",
      "\tRMSE 0.1159686 for 23 rounds\n",
      "CV with max_depth=9, min_child_weight=8\n",
      "\tRMSE 0.1157842 for 21 rounds\n",
      "CV with max_depth=9, min_child_weight=9\n",
      "\tRMSE 0.1158844 for 20 rounds\n",
      "CV with max_depth=9, min_child_weight=10\n",
      "\tRMSE 0.11599319999999999 for 34 rounds\n",
      "CV with max_depth=9, min_child_weight=11\n",
      "\tRMSE 0.115754 for 27 rounds\n",
      "CV with max_depth=9, min_child_weight=12\n",
      "\tRMSE 0.1158318 for 21 rounds\n",
      "CV with max_depth=9, min_child_weight=13\n",
      "\tRMSE 0.1160262 for 17 rounds\n",
      "CV with max_depth=9, min_child_weight=14\n",
      "\tRMSE 0.11578439999999998 for 36 rounds\n",
      "CV with max_depth=9, min_child_weight=15\n",
      "\tRMSE 0.1159024 for 29 rounds\n",
      "CV with max_depth=9, min_child_weight=16\n",
      "\tRMSE 0.11599960000000001 for 18 rounds\n",
      "CV with max_depth=9, min_child_weight=17\n",
      "\tRMSE 0.1159084 for 23 rounds\n",
      "CV with max_depth=9, min_child_weight=18\n",
      "\tRMSE 0.1158752 for 38 rounds\n",
      "CV with max_depth=9, min_child_weight=19\n",
      "\tRMSE 0.1159772 for 31 rounds\n",
      "CV with max_depth=10, min_child_weight=1\n",
      "\tRMSE 0.1159316 for 15 rounds\n",
      "CV with max_depth=10, min_child_weight=2\n",
      "\tRMSE 0.11592 for 13 rounds\n",
      "CV with max_depth=10, min_child_weight=3\n",
      "\tRMSE 0.115937 for 23 rounds\n",
      "CV with max_depth=10, min_child_weight=4\n",
      "\tRMSE 0.1158958 for 19 rounds\n",
      "CV with max_depth=10, min_child_weight=5\n",
      "\tRMSE 0.11599260000000003 for 18 rounds\n",
      "CV with max_depth=10, min_child_weight=6\n",
      "\tRMSE 0.1161248 for 16 rounds\n",
      "CV with max_depth=10, min_child_weight=7\n",
      "\tRMSE 0.1159088 for 17 rounds\n",
      "CV with max_depth=10, min_child_weight=8\n",
      "\tRMSE 0.11610040000000002 for 21 rounds\n",
      "CV with max_depth=10, min_child_weight=9\n",
      "\tRMSE 0.11608239999999999 for 19 rounds\n",
      "CV with max_depth=10, min_child_weight=10\n",
      "\tRMSE 0.1158846 for 14 rounds\n",
      "CV with max_depth=10, min_child_weight=11\n",
      "\tRMSE 0.116048 for 22 rounds\n",
      "CV with max_depth=10, min_child_weight=12\n",
      "\tRMSE 0.11595360000000002 for 16 rounds\n",
      "CV with max_depth=10, min_child_weight=13\n",
      "\tRMSE 0.11610659999999999 for 19 rounds\n",
      "CV with max_depth=10, min_child_weight=14\n",
      "\tRMSE 0.11601219999999998 for 26 rounds\n",
      "CV with max_depth=10, min_child_weight=15\n",
      "\tRMSE 0.1162232 for 19 rounds\n",
      "CV with max_depth=10, min_child_weight=16\n",
      "\tRMSE 0.11602860000000001 for 22 rounds\n",
      "CV with max_depth=10, min_child_weight=17\n",
      "\tRMSE 0.1161556 for 22 rounds\n",
      "CV with max_depth=10, min_child_weight=18\n",
      "\tRMSE 0.11600760000000002 for 22 rounds\n",
      "CV with max_depth=10, min_child_weight=19\n",
      "\tRMSE 0.116036 for 20 rounds\n",
      "CV with max_depth=11, min_child_weight=1\n",
      "\tRMSE 0.1161974 for 13 rounds\n",
      "CV with max_depth=11, min_child_weight=2\n",
      "\tRMSE 0.1162652 for 12 rounds\n",
      "CV with max_depth=11, min_child_weight=3\n",
      "\tRMSE 0.116179 for 15 rounds\n",
      "CV with max_depth=11, min_child_weight=4\n",
      "\tRMSE 0.1163476 for 13 rounds\n",
      "CV with max_depth=11, min_child_weight=5\n",
      "\tRMSE 0.11609340000000001 for 14 rounds\n",
      "CV with max_depth=11, min_child_weight=6\n",
      "\tRMSE 0.116058 for 14 rounds\n",
      "CV with max_depth=11, min_child_weight=7\n",
      "\tRMSE 0.1160088 for 15 rounds\n",
      "CV with max_depth=11, min_child_weight=8\n",
      "\tRMSE 0.11581899999999998 for 15 rounds\n",
      "CV with max_depth=11, min_child_weight=9\n",
      "\tRMSE 0.1159732 for 13 rounds\n",
      "CV with max_depth=11, min_child_weight=10\n",
      "\tRMSE 0.1161146 for 18 rounds\n",
      "CV with max_depth=11, min_child_weight=11\n",
      "\tRMSE 0.11598919999999999 for 17 rounds\n",
      "CV with max_depth=11, min_child_weight=12\n",
      "\tRMSE 0.1158908 for 19 rounds\n",
      "CV with max_depth=11, min_child_weight=13\n",
      "\tRMSE 0.11597740000000001 for 15 rounds\n",
      "CV with max_depth=11, min_child_weight=14\n",
      "\tRMSE 0.11583760000000001 for 16 rounds\n",
      "CV with max_depth=11, min_child_weight=15\n",
      "\tRMSE 0.11596200000000001 for 18 rounds\n",
      "CV with max_depth=11, min_child_weight=16\n",
      "\tRMSE 0.11586100000000002 for 13 rounds\n",
      "CV with max_depth=11, min_child_weight=17\n",
      "\tRMSE 0.11598900000000001 for 17 rounds\n",
      "CV with max_depth=11, min_child_weight=18\n",
      "\tRMSE 0.115984 for 14 rounds\n",
      "CV with max_depth=11, min_child_weight=19\n",
      "\tRMSE 0.11594600000000002 for 18 rounds\n",
      "CV with max_depth=12, min_child_weight=1\n",
      "\tRMSE 0.11692499999999999 for 12 rounds\n",
      "CV with max_depth=12, min_child_weight=2\n",
      "\tRMSE 0.1166884 for 12 rounds\n",
      "CV with max_depth=12, min_child_weight=3\n",
      "\tRMSE 0.1166784 for 12 rounds\n",
      "CV with max_depth=12, min_child_weight=4\n",
      "\tRMSE 0.116596 for 14 rounds\n",
      "CV with max_depth=12, min_child_weight=5\n",
      "\tRMSE 0.11635720000000001 for 16 rounds\n",
      "CV with max_depth=12, min_child_weight=6\n",
      "\tRMSE 0.1164374 for 13 rounds\n",
      "CV with max_depth=12, min_child_weight=7\n",
      "\tRMSE 0.1164142 for 17 rounds\n",
      "CV with max_depth=12, min_child_weight=8\n",
      "\tRMSE 0.11639199999999998 for 18 rounds\n",
      "CV with max_depth=12, min_child_weight=9\n",
      "\tRMSE 0.11641399999999999 for 14 rounds\n",
      "CV with max_depth=12, min_child_weight=10\n",
      "\tRMSE 0.1161732 for 15 rounds\n",
      "CV with max_depth=12, min_child_weight=11\n",
      "\tRMSE 0.1162574 for 14 rounds\n",
      "CV with max_depth=12, min_child_weight=12\n",
      "\tRMSE 0.1160352 for 19 rounds\n",
      "CV with max_depth=12, min_child_weight=13\n",
      "\tRMSE 0.11616680000000001 for 15 rounds\n",
      "CV with max_depth=12, min_child_weight=14\n",
      "\tRMSE 0.11609340000000001 for 16 rounds\n",
      "CV with max_depth=12, min_child_weight=15\n",
      "\tRMSE 0.1160998 for 14 rounds\n",
      "CV with max_depth=12, min_child_weight=16\n",
      "\tRMSE 0.11619600000000001 for 16 rounds\n",
      "CV with max_depth=12, min_child_weight=17\n",
      "\tRMSE 0.11593800000000001 for 14 rounds\n",
      "CV with max_depth=12, min_child_weight=18\n",
      "\tRMSE 0.11610179999999999 for 14 rounds\n",
      "CV with max_depth=12, min_child_weight=19\n",
      "\tRMSE 0.11612580000000002 for 17 rounds\n",
      "CV with max_depth=13, min_child_weight=1\n",
      "\tRMSE 0.11760299999999999 for 11 rounds\n",
      "CV with max_depth=13, min_child_weight=2\n",
      "\tRMSE 0.11727879999999999 for 13 rounds\n",
      "CV with max_depth=13, min_child_weight=3\n",
      "\tRMSE 0.11680220000000001 for 12 rounds\n",
      "CV with max_depth=13, min_child_weight=4\n",
      "\tRMSE 0.11709079999999998 for 12 rounds\n",
      "CV with max_depth=13, min_child_weight=5\n",
      "\tRMSE 0.11658519999999999 for 13 rounds\n",
      "CV with max_depth=13, min_child_weight=6\n",
      "\tRMSE 0.11667180000000002 for 12 rounds\n",
      "CV with max_depth=13, min_child_weight=7\n",
      "\tRMSE 0.11651699999999998 for 16 rounds\n",
      "CV with max_depth=13, min_child_weight=8\n",
      "\tRMSE 0.1165708 for 13 rounds\n",
      "CV with max_depth=13, min_child_weight=9\n",
      "\tRMSE 0.1165038 for 16 rounds\n",
      "CV with max_depth=13, min_child_weight=10\n",
      "\tRMSE 0.116384 for 12 rounds\n",
      "CV with max_depth=13, min_child_weight=11\n",
      "\tRMSE 0.1162852 for 13 rounds\n",
      "CV with max_depth=13, min_child_weight=12\n",
      "\tRMSE 0.11612660000000001 for 13 rounds\n",
      "CV with max_depth=13, min_child_weight=13\n",
      "\tRMSE 0.11639279999999999 for 14 rounds\n",
      "CV with max_depth=13, min_child_weight=14\n",
      "\tRMSE 0.11632 for 14 rounds\n",
      "CV with max_depth=13, min_child_weight=15\n",
      "\tRMSE 0.11610519999999999 for 13 rounds\n",
      "CV with max_depth=13, min_child_weight=16\n",
      "\tRMSE 0.1160102 for 14 rounds\n",
      "CV with max_depth=13, min_child_weight=17\n",
      "\tRMSE 0.11624019999999999 for 15 rounds\n",
      "CV with max_depth=13, min_child_weight=18\n",
      "\tRMSE 0.11620040000000001 for 13 rounds\n",
      "CV with max_depth=13, min_child_weight=19\n",
      "\tRMSE 0.11608840000000001 for 20 rounds\n",
      "CV with max_depth=14, min_child_weight=1\n",
      "\tRMSE 0.11810960000000001 for 11 rounds\n",
      "CV with max_depth=14, min_child_weight=2\n",
      "\tRMSE 0.11788240000000001 for 11 rounds\n",
      "CV with max_depth=14, min_child_weight=3\n",
      "\tRMSE 0.11727099999999999 for 13 rounds\n",
      "CV with max_depth=14, min_child_weight=4\n",
      "\tRMSE 0.1167982 for 13 rounds\n",
      "CV with max_depth=14, min_child_weight=5\n",
      "\tRMSE 0.11681299999999999 for 12 rounds\n",
      "CV with max_depth=14, min_child_weight=6\n",
      "\tRMSE 0.1168486 for 12 rounds\n",
      "CV with max_depth=14, min_child_weight=7\n",
      "\tRMSE 0.116676 for 12 rounds\n",
      "CV with max_depth=14, min_child_weight=8\n",
      "\tRMSE 0.11642159999999999 for 12 rounds\n",
      "CV with max_depth=14, min_child_weight=9\n",
      "\tRMSE 0.1163978 for 12 rounds\n",
      "CV with max_depth=14, min_child_weight=10\n",
      "\tRMSE 0.11646679999999998 for 12 rounds\n",
      "CV with max_depth=14, min_child_weight=11\n",
      "\tRMSE 0.1163966 for 15 rounds\n",
      "CV with max_depth=14, min_child_weight=12\n",
      "\tRMSE 0.11604299999999998 for 15 rounds\n",
      "CV with max_depth=14, min_child_weight=13\n",
      "\tRMSE 0.1162022 for 17 rounds\n",
      "CV with max_depth=14, min_child_weight=14\n",
      "\tRMSE 0.1163142 for 15 rounds\n",
      "CV with max_depth=14, min_child_weight=15\n",
      "\tRMSE 0.116191 for 15 rounds\n",
      "CV with max_depth=14, min_child_weight=16\n",
      "\tRMSE 0.1162242 for 15 rounds\n",
      "CV with max_depth=14, min_child_weight=17\n",
      "\tRMSE 0.1161826 for 14 rounds\n",
      "CV with max_depth=14, min_child_weight=18\n",
      "\tRMSE 0.116076 for 14 rounds\n",
      "CV with max_depth=14, min_child_weight=19\n",
      "\tRMSE 0.1163608 for 13 rounds\n",
      "CV with max_depth=15, min_child_weight=1\n",
      "\tRMSE 0.11901380000000002 for 10 rounds\n",
      "CV with max_depth=15, min_child_weight=2\n",
      "\tRMSE 0.11855940000000001 for 12 rounds\n",
      "CV with max_depth=15, min_child_weight=3\n",
      "\tRMSE 0.1176472 for 12 rounds\n",
      "CV with max_depth=15, min_child_weight=4\n",
      "\tRMSE 0.11729339999999999 for 11 rounds\n",
      "CV with max_depth=15, min_child_weight=5\n",
      "\tRMSE 0.117255 for 12 rounds\n",
      "CV with max_depth=15, min_child_weight=6\n",
      "\tRMSE 0.11682980000000001 for 11 rounds\n",
      "CV with max_depth=15, min_child_weight=7\n",
      "\tRMSE 0.11690880000000001 for 13 rounds\n",
      "CV with max_depth=15, min_child_weight=8\n",
      "\tRMSE 0.11681860000000002 for 14 rounds\n",
      "CV with max_depth=15, min_child_weight=9\n",
      "\tRMSE 0.1166396 for 12 rounds\n",
      "CV with max_depth=15, min_child_weight=10\n",
      "\tRMSE 0.116696 for 13 rounds\n",
      "CV with max_depth=15, min_child_weight=11\n",
      "\tRMSE 0.11645239999999998 for 13 rounds\n",
      "CV with max_depth=15, min_child_weight=12\n",
      "\tRMSE 0.1161694 for 14 rounds\n",
      "CV with max_depth=15, min_child_weight=13\n",
      "\tRMSE 0.11627119999999999 for 14 rounds\n",
      "CV with max_depth=15, min_child_weight=14\n",
      "\tRMSE 0.1163378 for 12 rounds\n",
      "CV with max_depth=15, min_child_weight=15\n",
      "\tRMSE 0.11614019999999999 for 13 rounds\n",
      "CV with max_depth=15, min_child_weight=16\n",
      "\tRMSE 0.1161316 for 16 rounds\n",
      "CV with max_depth=15, min_child_weight=17\n",
      "\tRMSE 0.116215 for 14 rounds\n",
      "CV with max_depth=15, min_child_weight=18\n",
      "\tRMSE 0.11624280000000001 for 15 rounds\n",
      "CV with max_depth=15, min_child_weight=19\n",
      "\tRMSE 0.11620199999999999 for 15 rounds\n",
      "CV with max_depth=16, min_child_weight=1\n",
      "\tRMSE 0.11976940000000003 for 10 rounds\n",
      "CV with max_depth=16, min_child_weight=2\n",
      "\tRMSE 0.11895639999999999 for 11 rounds\n",
      "CV with max_depth=16, min_child_weight=3\n",
      "\tRMSE 0.11811580000000002 for 11 rounds\n",
      "CV with max_depth=16, min_child_weight=4\n",
      "\tRMSE 0.1174072 for 11 rounds\n",
      "CV with max_depth=16, min_child_weight=5\n",
      "\tRMSE 0.11745380000000001 for 13 rounds\n",
      "CV with max_depth=16, min_child_weight=6\n",
      "\tRMSE 0.1171216 for 11 rounds\n",
      "CV with max_depth=16, min_child_weight=7\n",
      "\tRMSE 0.1168944 for 11 rounds\n",
      "CV with max_depth=16, min_child_weight=8\n",
      "\tRMSE 0.116887 for 13 rounds\n",
      "CV with max_depth=16, min_child_weight=9\n",
      "\tRMSE 0.11675179999999999 for 13 rounds\n",
      "CV with max_depth=16, min_child_weight=10\n",
      "\tRMSE 0.11672400000000001 for 14 rounds\n",
      "CV with max_depth=16, min_child_weight=11\n",
      "\tRMSE 0.1164928 for 13 rounds\n",
      "CV with max_depth=16, min_child_weight=12\n",
      "\tRMSE 0.1162752 for 16 rounds\n",
      "CV with max_depth=16, min_child_weight=13\n",
      "\tRMSE 0.1162136 for 13 rounds\n",
      "CV with max_depth=16, min_child_weight=14\n",
      "\tRMSE 0.1164156 for 12 rounds\n",
      "CV with max_depth=16, min_child_weight=15\n",
      "\tRMSE 0.11618360000000001 for 14 rounds\n",
      "CV with max_depth=16, min_child_weight=16\n",
      "\tRMSE 0.11621920000000001 for 13 rounds\n",
      "CV with max_depth=16, min_child_weight=17\n",
      "\tRMSE 0.1161176 for 14 rounds\n",
      "CV with max_depth=16, min_child_weight=18\n",
      "\tRMSE 0.11610899999999999 for 16 rounds\n",
      "CV with max_depth=16, min_child_weight=19\n",
      "\tRMSE 0.1162264 for 16 rounds\n",
      "CV with max_depth=17, min_child_weight=1\n",
      "\tRMSE 0.1202886 for 9 rounds\n",
      "CV with max_depth=17, min_child_weight=2\n",
      "\tRMSE 0.11924259999999998 for 10 rounds\n",
      "CV with max_depth=17, min_child_weight=3\n",
      "\tRMSE 0.11817079999999999 for 10 rounds\n",
      "CV with max_depth=17, min_child_weight=4\n",
      "\tRMSE 0.117838 for 12 rounds\n",
      "CV with max_depth=17, min_child_weight=5\n",
      "\tRMSE 0.11745899999999998 for 11 rounds\n",
      "CV with max_depth=17, min_child_weight=6\n",
      "\tRMSE 0.1169914 for 11 rounds\n",
      "CV with max_depth=17, min_child_weight=7\n",
      "\tRMSE 0.1170928 for 12 rounds\n",
      "CV with max_depth=17, min_child_weight=8\n",
      "\tRMSE 0.117008 for 12 rounds\n",
      "CV with max_depth=17, min_child_weight=9\n",
      "\tRMSE 0.11680520000000001 for 11 rounds\n",
      "CV with max_depth=17, min_child_weight=10\n",
      "\tRMSE 0.11682000000000001 for 13 rounds\n",
      "CV with max_depth=17, min_child_weight=11\n",
      "\tRMSE 0.11664319999999999 for 12 rounds\n",
      "CV with max_depth=17, min_child_weight=12\n",
      "\tRMSE 0.1164952 for 12 rounds\n",
      "CV with max_depth=17, min_child_weight=13\n",
      "\tRMSE 0.11634959999999998 for 13 rounds\n",
      "CV with max_depth=17, min_child_weight=14\n",
      "\tRMSE 0.1165888 for 13 rounds\n",
      "CV with max_depth=17, min_child_weight=15\n",
      "\tRMSE 0.1163132 for 12 rounds\n",
      "CV with max_depth=17, min_child_weight=16\n",
      "\tRMSE 0.11638419999999998 for 21 rounds\n",
      "CV with max_depth=17, min_child_weight=17\n",
      "\tRMSE 0.1163268 for 12 rounds\n",
      "CV with max_depth=17, min_child_weight=18\n",
      "\tRMSE 0.1163556 for 19 rounds\n",
      "CV with max_depth=17, min_child_weight=19\n",
      "\tRMSE 0.1163152 for 14 rounds\n",
      "CV with max_depth=18, min_child_weight=1\n",
      "\tRMSE 0.12048840000000001 for 9 rounds\n",
      "CV with max_depth=18, min_child_weight=2\n",
      "\tRMSE 0.1195646 for 9 rounds\n",
      "CV with max_depth=18, min_child_weight=3\n",
      "\tRMSE 0.1185668 for 10 rounds\n",
      "CV with max_depth=18, min_child_weight=4\n",
      "\tRMSE 0.1179754 for 11 rounds\n",
      "CV with max_depth=18, min_child_weight=5\n",
      "\tRMSE 0.117762 for 11 rounds\n",
      "CV with max_depth=18, min_child_weight=6\n",
      "\tRMSE 0.11730860000000001 for 11 rounds\n",
      "CV with max_depth=18, min_child_weight=7\n",
      "\tRMSE 0.1170984 for 11 rounds\n",
      "CV with max_depth=18, min_child_weight=8\n",
      "\tRMSE 0.1169246 for 12 rounds\n",
      "CV with max_depth=18, min_child_weight=9\n",
      "\tRMSE 0.1169462 for 13 rounds\n",
      "CV with max_depth=18, min_child_weight=10\n",
      "\tRMSE 0.11675360000000001 for 11 rounds\n",
      "CV with max_depth=18, min_child_weight=11\n",
      "\tRMSE 0.1165316 for 13 rounds\n",
      "CV with max_depth=18, min_child_weight=12\n",
      "\tRMSE 0.1166954 for 11 rounds\n",
      "CV with max_depth=18, min_child_weight=13\n",
      "\tRMSE 0.11640959999999997 for 11 rounds\n",
      "CV with max_depth=18, min_child_weight=14\n",
      "\tRMSE 0.11645760000000001 for 13 rounds\n",
      "CV with max_depth=18, min_child_weight=15\n",
      "\tRMSE 0.11623539999999999 for 13 rounds\n",
      "CV with max_depth=18, min_child_weight=16\n",
      "\tRMSE 0.116198 for 14 rounds\n",
      "CV with max_depth=18, min_child_weight=17\n",
      "\tRMSE 0.11637919999999999 for 12 rounds\n",
      "CV with max_depth=18, min_child_weight=18\n",
      "\tRMSE 0.1162862 for 16 rounds\n",
      "CV with max_depth=18, min_child_weight=19\n",
      "\tRMSE 0.11635440000000001 for 13 rounds\n",
      "CV with max_depth=19, min_child_weight=1\n",
      "\tRMSE 0.1205908 for 9 rounds\n",
      "CV with max_depth=19, min_child_weight=2\n",
      "\tRMSE 0.119785 for 10 rounds\n",
      "CV with max_depth=19, min_child_weight=3\n",
      "\tRMSE 0.11863900000000001 for 10 rounds\n",
      "CV with max_depth=19, min_child_weight=4\n",
      "\tRMSE 0.11820420000000001 for 11 rounds\n",
      "CV with max_depth=19, min_child_weight=5\n",
      "\tRMSE 0.11765299999999998 for 11 rounds\n",
      "CV with max_depth=19, min_child_weight=6\n",
      "\tRMSE 0.1173026 for 10 rounds\n",
      "CV with max_depth=19, min_child_weight=7\n",
      "\tRMSE 0.11722679999999999 for 11 rounds\n",
      "CV with max_depth=19, min_child_weight=8\n",
      "\tRMSE 0.116845 for 12 rounds\n",
      "CV with max_depth=19, min_child_weight=9\n",
      "\tRMSE 0.1170258 for 13 rounds\n",
      "CV with max_depth=19, min_child_weight=10\n",
      "\tRMSE 0.11720660000000001 for 12 rounds\n",
      "CV with max_depth=19, min_child_weight=11\n",
      "\tRMSE 0.116623 for 12 rounds\n",
      "CV with max_depth=19, min_child_weight=12\n",
      "\tRMSE 0.1166152 for 13 rounds\n",
      "CV with max_depth=19, min_child_weight=13\n",
      "\tRMSE 0.1165342 for 14 rounds\n",
      "CV with max_depth=19, min_child_weight=14\n",
      "\tRMSE 0.1164792 for 13 rounds\n",
      "CV with max_depth=19, min_child_weight=15\n",
      "\tRMSE 0.11629700000000001 for 13 rounds\n",
      "CV with max_depth=19, min_child_weight=16\n",
      "\tRMSE 0.11646039999999999 for 12 rounds\n",
      "CV with max_depth=19, min_child_weight=17\n",
      "\tRMSE 0.11634760000000002 for 13 rounds\n",
      "CV with max_depth=19, min_child_weight=18\n",
      "\tRMSE 0.11633059999999999 for 14 rounds\n",
      "CV with max_depth=19, min_child_weight=19\n",
      "\tRMSE 0.1162744 for 15 rounds\n",
      "Best params: 7, 5, RMSE: 0.1156426\n"
     ]
    }
   ],
   "source": [
    "min_rmse = float(\"Inf\")\n",
    "best_params = None\n",
    "for max_depth, min_child_weight in gridsearch_params:\n",
    "    print(\"CV with max_depth={}, min_child_weight={}\".format(\n",
    "        max_depth,\n",
    "        min_child_weight))\n",
    "    # Update our parameters\n",
    "    params['max_depth'] = max_depth\n",
    "    params['min_child_weight'] = min_child_weight\n",
    "    # Run CV\n",
    "    cv_results = xgb.cv(\n",
    "        params,\n",
    "        data_dmatrix_train,\n",
    "        num_boost_round=num_boost_round,\n",
    "        seed=42,\n",
    "        nfold=5,\n",
    "        metrics={'rmse'},\n",
    "        early_stopping_rounds=10\n",
    "        )\n",
    "    # Update best MRSE\n",
    "    mean_rmse = cv_results['test-rmse-mean'].min()\n",
    "    boost_rounds = cv_results['test-rmse-mean'].argmin()\n",
    "    print(\"\\tRMSE {} for {} rounds\".format(mean_rmse, boost_rounds))\n",
    "    if mean_rmse < min_rmse:\n",
    "        min_rmse = mean_rmse\n",
    "        best_params = (max_depth,min_child_weight)\n",
    "print(\"Best params: {}, {}, RMSE: {}\".format(best_params[0], best_params[1], min_rmse))"
   ]
  },
  {
   "cell_type": "code",
   "execution_count": 37,
   "id": "bTnmccIGZ2mp",
   "metadata": {
    "id": "bTnmccIGZ2mp"
   },
   "outputs": [],
   "source": [
    "# set to best hyperparameters\n",
    "params['max_depth'] = 7\n",
    "params['min_child_weight'] = 5"
   ]
  },
  {
   "cell_type": "markdown",
   "id": "409c30b8",
   "metadata": {
    "id": "JrKCofrwaeIa"
   },
   "source": [
    "Calculate whether subsampling helps\n",
    "\n",
    "Those parameters control the sampling of the dataset that is done at each boosting round.\n",
    "\n",
    "Instead of using the whole training set every time, we can build a tree on slightly different data at each step, which makes it less likely to overfit to a single sample or feature."
   ]
  },
  {
   "cell_type": "code",
   "execution_count": 105,
   "id": "1Je9Tv4HafH7",
   "metadata": {
    "id": "1Je9Tv4HafH7"
   },
   "outputs": [],
   "source": [
    "gridsearch_params = [\n",
    "    (subsample, colsample)\n",
    "    for subsample in [i/10. for i in range(0,11)]\n",
    "    for colsample in [i/10. for i in range(0,11)]\n",
    "]"
   ]
  },
  {
   "cell_type": "code",
   "execution_count": 106,
   "id": "4MX0ppNfagBQ",
   "metadata": {
    "id": "4MX0ppNfagBQ",
    "scrolled": true
   },
   "outputs": [
    {
     "name": "stdout",
     "output_type": "stream",
     "text": [
      "CV with  =1.0\n",
      "\tRMSE 0.11564263746493512 for 60 rounds\n",
      "CV with  =1.0\n",
      "\tRMSE 0.11569650139357077 for 22 rounds\n",
      "CV with  =1.0\n",
      "\tRMSE 0.11591511745893124 for 22 rounds\n",
      "CV with  =1.0\n",
      "\tRMSE 0.11567313187867485 for 59 rounds\n",
      "CV with  =1.0\n",
      "\tRMSE 0.11567925648426933 for 70 rounds\n",
      "CV with  =1.0\n",
      "\tRMSE 0.11550769410434107 for 84 rounds\n",
      "CV with  =1.0\n",
      "\tRMSE 0.1158953123936071 for 94 rounds\n",
      "CV with  =1.0\n",
      "\tRMSE 0.1162176356168501 for 137 rounds\n",
      "CV with  =1.0\n",
      "\tRMSE 0.11890913938436734 for 138 rounds\n",
      "CV with  =1.0\n",
      "\tRMSE 0.11890913938436734 for 138 rounds\n",
      "CV with  =1.0\n",
      "\tRMSE 0.11890913938436734 for 138 rounds\n",
      "CV with  =0.9\n",
      "\tRMSE 0.11599825039516316 for 30 rounds\n",
      "CV with  =0.9\n",
      "\tRMSE 0.11589487229880553 for 32 rounds\n",
      "CV with  =0.9\n",
      "\tRMSE 0.11590329174243215 for 27 rounds\n",
      "CV with  =0.9\n",
      "\tRMSE 0.11568269607667889 for 40 rounds\n",
      "CV with  =0.9\n",
      "\tRMSE 0.11582034659896467 for 42 rounds\n",
      "CV with  =0.9\n",
      "\tRMSE 0.11581725154259292 for 39 rounds\n",
      "CV with  =0.9\n",
      "\tRMSE 0.1159813618343581 for 73 rounds\n",
      "CV with  =0.9\n",
      "\tRMSE 0.1164398417702209 for 109 rounds\n",
      "CV with  =0.9\n",
      "\tRMSE 0.11896329463388837 for 130 rounds\n",
      "CV with  =0.9\n",
      "\tRMSE 0.11896329463388837 for 130 rounds\n",
      "CV with  =0.9\n",
      "\tRMSE 0.11896329463388837 for 130 rounds\n",
      "CV with  =0.8\n",
      "\tRMSE 0.11642786702004201 for 16 rounds\n",
      "CV with  =0.8\n",
      "\tRMSE 0.11613929254681117 for 20 rounds\n",
      "CV with  =0.8\n",
      "\tRMSE 0.11620457376629682 for 24 rounds\n",
      "CV with  =0.8\n",
      "\tRMSE 0.11599811288262148 for 30 rounds\n",
      "CV with  =0.8\n",
      "\tRMSE 0.11595350882803904 for 42 rounds\n",
      "CV with  =0.8\n",
      "\tRMSE 0.11623289447224112 for 38 rounds\n",
      "CV with  =0.8\n",
      "\tRMSE 0.11619108521221448 for 69 rounds\n",
      "CV with  =0.8\n",
      "\tRMSE 0.1165484737015956 for 107 rounds\n",
      "CV with  =0.8\n",
      "\tRMSE 0.11900343771776849 for 123 rounds\n",
      "CV with  =0.8\n",
      "\tRMSE 0.11900343771776849 for 123 rounds\n",
      "CV with  =0.8\n",
      "\tRMSE 0.11900343771776849 for 123 rounds\n",
      "CV with  =0.7\n",
      "\tRMSE 0.11666472482182602 for 17 rounds\n",
      "CV with  =0.7\n",
      "\tRMSE 0.11625547561636865 for 20 rounds\n",
      "CV with  =0.7\n",
      "\tRMSE 0.116453596774769 for 27 rounds\n",
      "CV with  =0.7\n",
      "\tRMSE 0.11625670960293397 for 35 rounds\n",
      "CV with  =0.7\n",
      "\tRMSE 0.11636456169631844 for 41 rounds\n",
      "CV with  =0.7\n",
      "\tRMSE 0.1164821674914586 for 51 rounds\n",
      "CV with  =0.7\n",
      "\tRMSE 0.11633180860472328 for 51 rounds\n",
      "CV with  =0.7\n",
      "\tRMSE 0.11684604890079722 for 89 rounds\n",
      "CV with  =0.7\n",
      "\tRMSE 0.11897924973122724 for 119 rounds\n",
      "CV with  =0.7\n",
      "\tRMSE 0.11897924973122724 for 119 rounds\n",
      "CV with  =0.7\n",
      "\tRMSE 0.11897924973122724 for 119 rounds\n",
      "CV with  =0.6\n",
      "\tRMSE 0.11687831017752615 for 23 rounds\n",
      "CV with  =0.6\n",
      "\tRMSE 0.11667186272381862 for 25 rounds\n",
      "CV with  =0.6\n",
      "\tRMSE 0.1165384579121506 for 26 rounds\n",
      "CV with  =0.6\n",
      "\tRMSE 0.11645989192808104 for 25 rounds\n",
      "CV with  =0.6\n",
      "\tRMSE 0.11678699156984107 for 17 rounds\n",
      "CV with  =0.6\n",
      "\tRMSE 0.11657204849611609 for 36 rounds\n",
      "CV with  =0.6\n",
      "\tRMSE 0.11645253783491147 for 49 rounds\n",
      "CV with  =0.6\n",
      "\tRMSE 0.11697453436429495 for 112 rounds\n",
      "CV with  =0.6\n",
      "\tRMSE 0.11931487841296755 for 83 rounds\n",
      "CV with  =0.6\n",
      "\tRMSE 0.11931487841296755 for 83 rounds\n",
      "CV with  =0.6\n",
      "\tRMSE 0.11931487841296755 for 83 rounds\n",
      "CV with  =0.5\n",
      "\tRMSE 0.11731569944140566 for 14 rounds\n",
      "CV with  =0.5\n",
      "\tRMSE 0.11693649518183628 for 18 rounds\n",
      "CV with  =0.5\n",
      "\tRMSE 0.1169623130380066 for 15 rounds\n",
      "CV with  =0.5\n",
      "\tRMSE 0.11693841558189141 for 18 rounds\n",
      "CV with  =0.5\n",
      "\tRMSE 0.11684784519508906 for 16 rounds\n",
      "CV with  =0.5\n",
      "\tRMSE 0.11705120062030654 for 17 rounds\n",
      "CV with  =0.5\n",
      "\tRMSE 0.11679866274846104 for 49 rounds\n",
      "CV with  =0.5\n",
      "\tRMSE 0.11709481730558347 for 127 rounds\n",
      "CV with  =0.5\n",
      "\tRMSE 0.11931825434645833 for 83 rounds\n",
      "CV with  =0.5\n",
      "\tRMSE 0.11931825434645833 for 83 rounds\n",
      "CV with  =0.5\n",
      "\tRMSE 0.11931825434645833 for 83 rounds\n",
      "CV with  =0.4\n",
      "\tRMSE 0.11775237719601261 for 17 rounds\n",
      "CV with  =0.4\n",
      "\tRMSE 0.1174942928238614 for 14 rounds\n",
      "CV with  =0.4\n",
      "\tRMSE 0.11711984164394855 for 14 rounds\n",
      "CV with  =0.4\n",
      "\tRMSE 0.11685476875089104 for 36 rounds\n",
      "CV with  =0.4\n",
      "\tRMSE 0.11719162747369749 for 22 rounds\n",
      "CV with  =0.4\n",
      "\tRMSE 0.1172602544143216 for 22 rounds\n",
      "CV with  =0.4\n",
      "\tRMSE 0.11701383765029627 for 49 rounds\n",
      "CV with  =0.4\n",
      "\tRMSE 0.11740842476261167 for 80 rounds\n",
      "CV with  =0.4\n",
      "\tRMSE 0.11938972708785309 for 83 rounds\n",
      "CV with  =0.4\n",
      "\tRMSE 0.11938972708785309 for 83 rounds\n",
      "CV with  =0.4\n",
      "\tRMSE 0.11938972708785309 for 83 rounds\n",
      "CV with  =0.3\n",
      "\tRMSE 0.11799639647897486 for 17 rounds\n",
      "CV with  =0.3\n",
      "\tRMSE 0.11779663705613089 for 12 rounds\n",
      "CV with  =0.3\n",
      "\tRMSE 0.11750879198169714 for 22 rounds\n",
      "CV with  =0.3\n",
      "\tRMSE 0.11754262956735732 for 16 rounds\n",
      "CV with  =0.3\n",
      "\tRMSE 0.11759917849121626 for 22 rounds\n",
      "CV with  =0.3\n",
      "\tRMSE 0.11745814373605061 for 39 rounds\n",
      "CV with  =0.3\n",
      "\tRMSE 0.1172286854129257 for 44 rounds\n",
      "CV with  =0.3\n",
      "\tRMSE 0.11764244423824692 for 81 rounds\n",
      "CV with  =0.3\n",
      "\tRMSE 0.11917003153080774 for 116 rounds\n",
      "CV with  =0.3\n",
      "\tRMSE 0.11917003153080774 for 116 rounds\n",
      "CV with  =0.3\n",
      "\tRMSE 0.11917003153080774 for 116 rounds\n",
      "CV with  =0.2\n",
      "\tRMSE 0.11879690090355974 for 16 rounds\n",
      "CV with  =0.2\n",
      "\tRMSE 0.11848996146047015 for 13 rounds\n",
      "CV with  =0.2\n",
      "\tRMSE 0.11825405910199471 for 11 rounds\n",
      "CV with  =0.2\n",
      "\tRMSE 0.1182115594443895 for 14 rounds\n",
      "CV with  =0.2\n",
      "\tRMSE 0.11813693514460284 for 18 rounds\n",
      "CV with  =0.2\n",
      "\tRMSE 0.11821166643903644 for 22 rounds\n",
      "CV with  =0.2\n",
      "\tRMSE 0.11793588427465007 for 39 rounds\n",
      "CV with  =0.2\n",
      "\tRMSE 0.11855494936985334 for 81 rounds\n",
      "CV with  =0.2\n",
      "\tRMSE 0.11945652591871114 for 116 rounds\n",
      "CV with  =0.2\n",
      "\tRMSE 0.11945652591871114 for 116 rounds\n",
      "CV with  =0.2\n",
      "\tRMSE 0.11945652591871114 for 116 rounds\n",
      "CV with  =0.1\n",
      "\tRMSE 0.12026628352085855 for 12 rounds\n",
      "CV with  =0.1\n",
      "\tRMSE 0.11983808095858517 for 11 rounds\n",
      "CV with  =0.1\n",
      "\tRMSE 0.12020342405053515 for 16 rounds\n",
      "CV with  =0.1\n",
      "\tRMSE 0.11978410537727617 for 16 rounds\n",
      "CV with  =0.1\n",
      "\tRMSE 0.11998903147818854 for 12 rounds\n",
      "CV with  =0.1\n",
      "\tRMSE 0.11961029833170711 for 20 rounds\n",
      "CV with  =0.1\n",
      "\tRMSE 0.11953880289582397 for 31 rounds\n",
      "CV with  =0.1\n",
      "\tRMSE 0.11978584088411377 for 54 rounds\n",
      "CV with  =0.1\n",
      "\tRMSE 0.12026628310511198 for 82 rounds\n",
      "CV with  =0.1\n",
      "\tRMSE 0.12026628310511198 for 82 rounds\n",
      "CV with  =0.1\n",
      "\tRMSE 0.12026628310511198 for 82 rounds\n",
      "CV with  =0.0\n",
      "\tRMSE 0.38881335986651494 for 0 rounds\n",
      "CV with  =0.0\n",
      "\tRMSE 0.38881335986651494 for 0 rounds\n",
      "CV with  =0.0\n",
      "\tRMSE 0.38881335986651494 for 0 rounds\n",
      "CV with  =0.0\n",
      "\tRMSE 0.38881335986651494 for 0 rounds\n",
      "CV with  =0.0\n",
      "\tRMSE 0.38881335986651494 for 0 rounds\n",
      "CV with  =0.0\n",
      "\tRMSE 0.38881335986651494 for 0 rounds\n",
      "CV with  =0.0\n",
      "\tRMSE 0.38881335986651494 for 0 rounds\n",
      "CV with  =0.0\n",
      "\tRMSE 0.38881335986651494 for 0 rounds\n",
      "CV with  =0.0\n",
      "\tRMSE 0.38881335986651494 for 0 rounds\n",
      "CV with  =0.0\n",
      "\tRMSE 0.38881335986651494 for 0 rounds\n",
      "CV with  =0.0\n",
      "\tRMSE 0.38881335986651494 for 0 rounds\n",
      "Best params: 1.0, 0.5, RMSE: 0.11550769410434107\n"
     ]
    }
   ],
   "source": [
    "min_rmse = float(\"Inf\")\n",
    "best_params = None\n",
    "# We start by the largest values and go down to the smallest\n",
    "for subsample, colsample in reversed(gridsearch_params):\n",
    "    print(\"CV with  ={}\".format(\n",
    "                             subsample,\n",
    "                             colsample))\n",
    "    # We update our parameters\n",
    "    params['subsample'] = subsample\n",
    "    params['colsample_bytree'] = colsample\n",
    "    # Run CV\n",
    "    cv_results = xgb.cv(\n",
    "        params,\n",
    "        data_dmatrix,\n",
    "        num_boost_round=num_boost_round,\n",
    "        seed=42,\n",
    "        nfold=5,\n",
    "        metrics={'rmse'},\n",
    "        early_stopping_rounds=10\n",
    "    )\n",
    "    # Update best score\n",
    "    mean_rmse = cv_results['test-rmse-mean'].min()\n",
    "    boost_rounds = cv_results['test-rmse-mean'].argmin()\n",
    "    print(\"\\tRMSE {} for {} rounds\".format(mean_rmse, boost_rounds))\n",
    "    if mean_rmse < min_rmse:\n",
    "        min_rmse = mean_rmse\n",
    "        best_params = (subsample,colsample)\n",
    "print(\"Best params: {}, {}, RMSE: {}\".format(best_params[0], best_params[1], min_rmse))"
   ]
  },
  {
   "cell_type": "code",
   "execution_count": 38,
   "id": "UG6x4ZcVahY-",
   "metadata": {
    "id": "UG6x4ZcVahY-"
   },
   "outputs": [],
   "source": [
    "# set to best hyperparameters\n",
    "params['subsample'] = 1\n",
    "params['colsample_bytree'] = 0.5"
   ]
  },
  {
   "cell_type": "markdown",
   "id": "99d76a05",
   "metadata": {
    "id": "_S2JDNgwajDw"
   },
   "source": [
    "Calculate optimal eta\n",
    "\n",
    "The ETA parameter controls the learning rate.\n",
    "In practice, having a lower eta makes our model more robust to overfitting thus, usually, the lower the learning rate, the best. But with a lower eta, we need more boosting rounds, which takes more time to train, sometimes for only marginal improvements."
   ]
  },
  {
   "cell_type": "code",
   "execution_count": 112,
   "id": "1XYli4Ihaj-9",
   "metadata": {
    "id": "1XYli4Ihaj-9",
    "scrolled": true
   },
   "outputs": [
    {
     "name": "stdout",
     "output_type": "stream",
     "text": [
      "CV with eta=0.3\n",
      "Wall time: 1.49 s\n",
      "\tRMSE 0.11612900878718424 for 52 rounds\n",
      "\n",
      "CV with eta=0.2\n",
      "Wall time: 1.88 s\n",
      "\tRMSE 0.11597738532836983 for 74 rounds\n",
      "\n",
      "CV with eta=0.1\n",
      "Wall time: 2.5 s\n",
      "\tRMSE 0.11573021394968862 for 105 rounds\n",
      "\n",
      "CV with eta=0.05\n",
      "Wall time: 3.44 s\n",
      "\tRMSE 0.11579817035556252 for 158 rounds\n",
      "\n",
      "CV with eta=0.01\n",
      "Wall time: 19.6 s\n",
      "\tRMSE 0.1157081239436295 for 786 rounds\n",
      "\n",
      "CV with eta=0.005\n",
      "Wall time: 24.6 s\n",
      "\tRMSE 0.11608510833965446 for 998 rounds\n",
      "\n",
      "Best params: 0.01, RMSE: 0.1157081239436295\n"
     ]
    }
   ],
   "source": [
    "min_rmse = float(\"Inf\")\n",
    "best_params = None\n",
    "for eta in [.3, .2, .1, .05, .01, .005]:\n",
    "    print(\"CV with eta={}\".format(eta))\n",
    "    # We update our parameters\n",
    "    params['eta'] = eta\n",
    "    # Run and time CV\n",
    "    %time cv_results = xgb.cv(params, data_dmatrix, num_boost_round=num_boost_round, seed=42, metrics=['rmse'], early_stopping_rounds=10)\n",
    "    # nfold not required since optimal subsample is 1\n",
    "    # Update best score\n",
    "    mean_rmse = cv_results['test-rmse-mean'].min()\n",
    "    boost_rounds = cv_results['test-rmse-mean'].argmin()\n",
    "    print(\"\\tRMSE {} for {} rounds\\n\".format(mean_rmse, boost_rounds))\n",
    "    if mean_rmse < min_rmse:\n",
    "        min_rmse = mean_rmse\n",
    "        best_params = eta\n",
    "print(\"Best params: {}, RMSE: {}\".format(best_params, min_rmse))"
   ]
  },
  {
   "cell_type": "code",
   "execution_count": 39,
   "id": "ZS2FsI4SalyU",
   "metadata": {
    "id": "ZS2FsI4SalyU"
   },
   "outputs": [],
   "source": [
    "# set to best hyperparameters\n",
    "params['eta'] = 0.01"
   ]
  },
  {
   "cell_type": "code",
   "execution_count": 40,
   "id": "d5c286c8",
   "metadata": {},
   "outputs": [
    {
     "data": {
      "text/plain": [
       "{'max_depth': 7,\n",
       " 'min_child_weight': 5,\n",
       " 'eta': 0.01,\n",
       " 'subsample': 1,\n",
       " 'colsample_bytree': 0.5,\n",
       " 'objective': 'reg:squarederror',\n",
       " 'eval_metric': 'rmse'}"
      ]
     },
     "execution_count": 40,
     "metadata": {},
     "output_type": "execute_result"
    }
   ],
   "source": [
    "params"
   ]
  },
  {
   "cell_type": "code",
   "execution_count": 48,
   "id": "b8ed5a59",
   "metadata": {},
   "outputs": [],
   "source": [
    "xg_model_methodical = xgb.train(params, data_dmatrix_train, num_boost_round=9000)\n",
    "y_pred_xg_model_methodical = xg_model_methodical.predict(data_dmatrix_test)"
   ]
  },
  {
   "cell_type": "code",
   "execution_count": 49,
   "id": "a9c29acd",
   "metadata": {},
   "outputs": [
    {
     "name": "stdout",
     "output_type": "stream",
     "text": [
      "Optimized XGBoost\n",
      "R2  :  0.5572583242522012\n",
      "MAE :  0.07065408571193496\n",
      "MSE :  0.013387243154125518\n",
      "RMSE:  0.1157032547257229\n"
     ]
    }
   ],
   "source": [
    "print('Methodical XGBoost')\n",
    "print('R2  : ', r2_score(y_test, y_pred_xg_model_methodical))\n",
    "print('MAE : ', mean_absolute_error(y_test, y_pred_xg_model_methodical))\n",
    "print('MSE : ', mean_squared_error(y_test, y_pred_xg_model_methodical))\n",
    "print('RMSE: ', np.sqrt(mean_squared_error(y_test, y_pred_xg_model_methodical)))"
   ]
  },
  {
   "cell_type": "code",
   "execution_count": 50,
   "id": "6f61f132",
   "metadata": {
    "scrolled": false
   },
   "outputs": [
    {
     "data": {
      "text/plain": [
       "<AxesSubplot:title={'center':'Feature importance'}, xlabel='F score', ylabel='Features'>"
      ]
     },
     "execution_count": 50,
     "metadata": {},
     "output_type": "execute_result"
    },
    {
     "data": {
      "image/png": "[encoded data removed]",
      "text/plain": [
       "<Figure size 576x360 with 1 Axes>"
      ]
     },
     "metadata": {
      "needs_background": "light"
     },
     "output_type": "display_data"
    }
   ],
   "source": [
    "plt.figure(figsize=(8,5))\n",
    "xgb.plot_importance(xg_model_methodical, ax=plt.gca())"
   ]
  },
  {
   "cell_type": "code",
   "execution_count": 54,
   "id": "05df9e92",
   "metadata": {
    "scrolled": true
   },
   "outputs": [
    {
     "data": {
      "image/png": "[encoded data removed]",
      "text/plain": [
       "<Figure size 720x720 with 1 Axes>"
      ]
     },
     "metadata": {
      "needs_background": "light"
     },
     "output_type": "display_data"
    }
   ],
   "source": [
    "plt.figure(figsize=(10,10))\n",
    "plt.scatter(y_test, y_pred_xg_model_methodical, c='crimson')\n",
    "plt.xlim(0,1)\n",
    "plt.ylim(0,1)\n",
    "plt.xlabel('True Values', fontsize=15)\n",
    "plt.ylabel('Predictions', fontsize=15)\n",
    "plt.show()"
   ]
  },
  {
   "cell_type": "markdown",
   "id": "2993fa3e",
   "metadata": {},
   "source": [
    "### XGB Conclusion"
   ]
  },
  {
   "cell_type": "markdown",
   "id": "9610145d",
   "metadata": {},
   "source": [
    "We will use the methodical XGBoost as it achieved the best results on the validation set."
   ]
  },
  {
   "cell_type": "code",
   "execution_count": 59,
   "id": "752e52c3",
   "metadata": {},
   "outputs": [
    {
     "name": "stdout",
     "output_type": "stream",
     "text": [
      "Default XGBoost\n",
      "R2  :  0.5419339156047166\n",
      "MSE :  0.013850609482607145\n",
      "Grid search XGBoost\n",
      "R2  :  0.5516111500201621\n",
      "MSE :  0.013557997566278677\n",
      "Methodical XGBoost\n",
      "R2  :  0.5572583242522012\n",
      "MSE :  0.013387243154125518\n"
     ]
    }
   ],
   "source": [
    "print('Default XGBoost')\n",
    "print('R2  : ', r2_score(y_test, y_pred_xg_model_1))\n",
    "print('MSE : ', mean_squared_error(y_test, y_pred_xg_model_1))\n",
    "\n",
    "print('Grid search XGBoost')\n",
    "print('R2  : ', r2_score(y_test, y_pred_xg_model_gs))\n",
    "print('MSE : ', mean_squared_error(y_test, y_pred_xg_model_gs))\n",
    "\n",
    "print('Methodical XGBoost')\n",
    "print('R2  : ', r2_score(y_test, y_pred_xg_model_methodical))\n",
    "print('MSE : ', mean_squared_error(y_test, y_pred_xg_model_methodical))"
   ]
  }
 ],
 "metadata": {
  "colab": {
   "name": "Script_2.ipynb",
   "provenance": []
  },
  "kernelspec": {
   "display_name": "Python 3",
   "language": "python",
   "name": "python3"
  },
  "language_info": {
   "codemirror_mode": {
    "name": "ipython",
    "version": 3
   },
   "file_extension": ".py",
   "mimetype": "text/x-python",
   "name": "python",
   "nbconvert_exporter": "python",
   "pygments_lexer": "ipython3",
   "version": "3.8.8"
  }
 },
 "nbformat": 4,
 "nbformat_minor": 5
}
